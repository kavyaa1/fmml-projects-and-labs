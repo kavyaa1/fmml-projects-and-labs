{
  "nbformat": 4,
  "nbformat_minor": 0,
  "metadata": {
    "colab": {
      "name": "Copy of FMML_M1L2_Features_Feb22.ipynb",
      "provenance": [],
      "collapsed_sections": [],
      "include_colab_link": true
    },
    "kernelspec": {
      "name": "python3",
      "display_name": "Python 3"
    },
    "language_info": {
      "name": "python"
    }
  },
  "cells": [
    {
      "cell_type": "markdown",
      "metadata": {
        "id": "view-in-github",
        "colab_type": "text"
      },
      "source": [
        "<a href=\"https://colab.research.google.com/github/kavyaa1/fmml-projects-and-labs/blob/main/Copy_of_FMML_M1L2_Features_Feb22.ipynb\" target=\"_parent\"><img src=\"https://colab.research.google.com/assets/colab-badge.svg\" alt=\"Open In Colab\"/></a>"
      ]
    },
    {
      "cell_type": "markdown",
      "source": [
        "# The aim of this lab is to introduce DATA and FEATURES.\n",
        "\n",
        "## Let's get started.\n"
      ],
      "metadata": {
        "id": "Q0DQhRGLo3Tr"
      }
    },
    {
      "cell_type": "markdown",
      "source": [
        "## Make a copy before running the cells"
      ],
      "metadata": {
        "id": "o4AtXdwvNRGS"
      }
    },
    {
      "cell_type": "markdown",
      "metadata": {
        "id": "A6I1yI79fbLD"
      },
      "source": [
        "# Extracting features from data\n",
        "\n",
        "FMML Module 1, Lab 2<br>\n",
        " Module Coordinator : amit.pandey@research.iiit.ac.in <br>\n",
        " \n",
        "\n"
      ]
    },
    {
      "cell_type": "code",
      "metadata": {
        "id": "OimBnfcpvcNS",
        "colab": {
          "base_uri": "https://localhost:8080/"
        },
        "outputId": "92ce44da-0555-4488-e257-0ed45f5e4714"
      },
      "source": [
        "! pip install wikipedia\n",
        "\n",
        "import wikipedia\n",
        "import nltk\n",
        "from nltk.util import ngrams\n",
        "from collections import Counter\n",
        "import matplotlib.pyplot as plt\n",
        "import numpy as np\n",
        "import re\n",
        "import unicodedata\n",
        "import plotly.express as px\n",
        "import pandas as pd\n"
      ],
      "execution_count": 1,
      "outputs": [
        {
          "output_type": "stream",
          "name": "stdout",
          "text": [
            "Collecting wikipedia\n",
            "  Downloading wikipedia-1.4.0.tar.gz (27 kB)\n",
            "Requirement already satisfied: beautifulsoup4 in /usr/local/lib/python3.7/dist-packages (from wikipedia) (4.6.3)\n",
            "Requirement already satisfied: requests<3.0.0,>=2.0.0 in /usr/local/lib/python3.7/dist-packages (from wikipedia) (2.23.0)\n",
            "Requirement already satisfied: idna<3,>=2.5 in /usr/local/lib/python3.7/dist-packages (from requests<3.0.0,>=2.0.0->wikipedia) (2.10)\n",
            "Requirement already satisfied: urllib3!=1.25.0,!=1.25.1,<1.26,>=1.21.1 in /usr/local/lib/python3.7/dist-packages (from requests<3.0.0,>=2.0.0->wikipedia) (1.24.3)\n",
            "Requirement already satisfied: chardet<4,>=3.0.2 in /usr/local/lib/python3.7/dist-packages (from requests<3.0.0,>=2.0.0->wikipedia) (3.0.4)\n",
            "Requirement already satisfied: certifi>=2017.4.17 in /usr/local/lib/python3.7/dist-packages (from requests<3.0.0,>=2.0.0->wikipedia) (2021.10.8)\n",
            "Building wheels for collected packages: wikipedia\n",
            "  Building wheel for wikipedia (setup.py) ... \u001b[?25l\u001b[?25hdone\n",
            "  Created wheel for wikipedia: filename=wikipedia-1.4.0-py3-none-any.whl size=11695 sha256=99e441831e0da46b8d18e409507723d9d391fc080b5aaa716be111b538b3d9b4\n",
            "  Stored in directory: /root/.cache/pip/wheels/15/93/6d/5b2c68b8a64c7a7a04947b4ed6d89fb557dcc6bc27d1d7f3ba\n",
            "Successfully built wikipedia\n",
            "Installing collected packages: wikipedia\n",
            "Successfully installed wikipedia-1.4.0\n"
          ]
        }
      ]
    },
    {
      "cell_type": "markdown",
      "source": [
        "## What are features? \n",
        "### features are individual independent variables that act like a input to your system."
      ],
      "metadata": {
        "id": "_f74mfnO8Rd_"
      }
    },
    {
      "cell_type": "code",
      "source": [
        "import matplotlib.pyplot as plt\n",
        "from matplotlib import cm\n",
        "import numpy as np\n",
        "\n",
        "from mpl_toolkits.mplot3d.axes3d import get_test_data\n",
        "\n",
        " \n",
        "# set up a figure twice as wide as it is tall\n",
        "fig = plt.figure(figsize=plt.figaspect(0.9))\n",
        "\n",
        "# =============\n",
        "# First subplot\n",
        "# =============\n",
        "# set up the axes for the first plot\n",
        "ax = fig.add_subplot(1, 2, 1, projection='3d')\n",
        "\n",
        "# plot a 3D surface like in the example mplot3d/surface3d_demo\n",
        "X = np.arange(-5, 5, 0.25) # feature 1\n",
        "Y = np.arange(-5, 5, 0.25) # feature 2\n",
        "X, Y = np.meshgrid(X, Y)\n",
        "R = np.sqrt(X**2 + Y**2)\n",
        "Z = np.sin(R) #output\n",
        "surf = ax.plot_surface(X, Y, Z, rstride=1, cstride=1, cmap=cm.coolwarm,\n",
        "                       linewidth=0.4, antialiased=False)\n",
        "ax.set_zlim(-1.01, 1.01)\n",
        "fig.colorbar(surf, shrink=0.5, aspect=10)"
      ],
      "metadata": {
        "colab": {
          "base_uri": "https://localhost:8080/",
          "height": 265
        },
        "id": "n9KMUJBd8QKx",
        "outputId": "f238db47-d19f-4e65-b64e-aa03466ef9d6"
      },
      "execution_count": 2,
      "outputs": [
        {
          "output_type": "execute_result",
          "data": {
            "text/plain": [
              "<matplotlib.colorbar.Colorbar at 0x7f1724b5c590>"
            ]
          },
          "metadata": {},
          "execution_count": 2
        },
        {
          "output_type": "display_data",
          "data": {
            "text/plain": [
              "<Figure size 320x288 with 2 Axes>"
            ],
            "image/png": "[encoded data removed]"
          },
          "metadata": {
            "needs_background": "light"
          }
        }
      ]
    },
    {
      "cell_type": "markdown",
      "metadata": {
        "id": "m6hGhIGiy4GP"
      },
      "source": [
        "# Part 2: Features of text\n",
        "How do we apply machine learning on text? We can't directly use the text as input to our algorithms. We need to convert them to features. In this notebook, we will explore a simple way of converting text to features. \n",
        "\n",
        "Let us download a few documents off Wikipedia."
      ]
    },
    {
      "cell_type": "code",
      "metadata": {
        "id": "lpUmCoEr2R3J"
      },
      "source": [
        "topic1 = 'Giraffe'\n",
        "topic2 = 'Elephant'\n",
        "wikipedia.set_lang('en') \n",
        "eng1 = wikipedia.page(topic1).content\n",
        "eng2 = wikipedia.page(topic2).content\n",
        "wikipedia.set_lang('fr')\n",
        "fr1 = wikipedia.page(topic1).content\n",
        "fr2 = wikipedia.page(topic2).content\n",
        "\n"
      ],
      "execution_count": 3,
      "outputs": []
    },
    {
      "cell_type": "markdown",
      "metadata": {
        "id": "Cj7RlhMiO5kd"
      },
      "source": [
        "This is what the text looks like:"
      ]
    },
    {
      "cell_type": "code",
      "metadata": {
        "id": "GW0G-t912UXZ",
        "colab": {
          "base_uri": "https://localhost:8080/",
          "height": 140
        },
        "outputId": "03e779c0-5047-496e-b557-8873eaa9a51b"
      },
      "source": [
        "fr2"
      ],
      "execution_count": 4,
      "outputs": [
        {
          "output_type": "execute_result",
          "data": {
            "text/plain": [
              "'Les éléphants sont des mammifères proboscidiens de la famille des Éléphantidés. Ils correspondent aujourd\\'hui à trois espèces réparties en deux genres distincts. L\\'Éléphant de savane d\\'Afrique et l\\'Éléphant de forêt d\\'Afrique, autrefois regroupés sous la même espèce d\\'« Éléphant d\\'Afrique », appartiennent au genre Loxodonta, tandis que l\\'Éléphant d\\'Asie, anciennement appelé « éléphant indien », appartient au genre Elephas. Ils se différencient par certaines caractéristiques anatomiques, les éléphants d\\'Asie étant en général plus petits avec des oreilles plus petites, ou encore une différence du bout de la trompe. Ces espèces survivantes font localement l\\'objet de programmes ou de projets de réintroduction et de protection.\\nLe mot français « éléphant » vient du mot latin elephantus qui tire son origine du grec ἐλέφας signifiant « ivoire » ou « éléphant ».\\nL\\'éléphant apparait dans de nombreuses cultures. Il est symbole de sagesse dans la culture asiatique, connu pour sa mémoire et son intelligence, qui est comparée à celle des cétacés et hominidés. Aristote avait dit que l\\'éléphant est « la bête qui dépasse toutes les autres par l\\'intelligence et l\\'esprit ».\\n\\n\\n== Description ==\\n\\nL\\'éléphant d\\'Afrique, qui peut atteindre 7 tonnes, est le plus gros animal terrestre actuel, mais il est loin derrière la Baleine bleue (Balaenoptera musculus) qui peut peser jusqu\\'à 200 tonnes et dépasser 30 mètres de long.\\n\\n\\n=== Squelette et muscles ===\\n\\nLe squelette de l\\'éléphant présente des caractéristiques dictées par la masse qu\\'il doit soutenir : il représente environ 16,5 % de la masse totale de l\\'animal, cela signifie que pour un éléphant de 7 tonnes, le squelette pèse 1,155 tonne. Les os de l\\'éléphant sont spongieux. Sa cage thoracique, formée de vingt côtes, est arrimée le long de l\\'épine dorsale.\\nL\\'éléphant possède deux genoux à ses membres postérieurs, qui sont constitués d\\'un fémur, d\\'une rotule et de l\\'association tibia-fibula. Les membres antérieurs, quant à eux, comprennent une scapula, un humérus, et l\\'association radius-ulna.\\nL\\'éléphant marche sur le bout des doigts,. Les orteils sont insérés dans le pied, il y en a entre 2 et 5, on en voit seulement les ongles. Cependant on peut voir entre trois et cinq ongles en fonction des pieds. Les pieds antérieurs ont une forme arrondie, alors que les pieds postérieurs ont une forme ovale. Les pieds sont composés de tissus adipeux qui agissent comme des amortisseurs.\\nContrairement à la plupart des mammifères, il est impossible pour un éléphant de sauter, pour des raisons d\\'ordre biomécanique : il lui faut toujours un pied sur le sol. Cependant il peut courir à une vitesse maximale de 20 km/h (un éléphant ayant été chronométré à 24 km/h dans le cadre d\\'une étude scientifique).\\nMême si on emploie le terme « courir » pour un éléphant, il est à noter que le terme est inapproprié. Il serait plus logique de dire qu’il « marche vite ». En effet, il ne change pas son allure (sa façon de se déplacer) lorsqu’il accélère.\\nUn éléphant d\\'Afrique mâle adulte mesure 3,50 mètres au garrot et pèse 5 à 6 tonnes, une femelle adulte mesure 3 mètres de haut au garrot pour une masse de 4 tonnes environ. À la naissance, l\\'éléphant pèse environ 120 kg. Un éléphant vit en moyenne 60 ans. Le plus grand éléphant connu a été signalé en Angola en 1974 : il s’agissait d’un mâle de 12 tonnes mesurant 4,20 m au garrot, soit un mètre de plus que la moyenne des éléphants africains.\\nDes éléphants nains, de la taille d\\'un grand cochon, ont également peuplé les îles méditerranéennes au cours de la Préhistoire, ; certains sont signalés en Crète jusqu\\'en 5000 av. J.-C., voire jusqu’en 3000 av. J.-C.,.\\n\\n\\n=== Trompe ===\\nLa principale caractéristique des éléphants est leur trompe appelée proboscis. Il s\\'agit d\\'un organe nasal (avec une fonction de respiration et de perception des odeurs) allongé qui découle de la fusion de la lèvre supérieure et du nez. La trompe est un organe souple et préhensile leur servant pour porter l\\'eau et la nourriture à la bouche, tirer ou transporter des objets et pousser des cris.\\nLa trompe comporte entre 100 000 et 150 000 muscles ; elle est dépourvue d\\'os et pèse plus de 100 kg.\\n« La trompe se compose de deux longs tuyaux cylindriques, partant de l’ouverture antérieure des fosses nasales. Ces tubes se rétrécissent à la région de l’inter mâchoire, ce qui empêche l’eau pompée par la trompe de pénétrer dans la cavité nasale ; ils offrent ensuite une dilatation, puis se resserrent de nouveau à l’endroit où ils s’ouvrent dans les narines osseuses, et où ils sont couverts par un cartilage nasal ovale. (…) Les tubes sont entourés d’une multitude de faisceaux musculaires, les uns longitudinaux, les autres rayonnant vers la peau et servant à comprimer les premiers. Quelques-uns enfin, mais en moins grand nombre sont circulaires. Cependant il faut distinguer de ces muscles, propres à la trompe, ceux qui servent à mouvoir l’organe en entier. Ces derniers sont comparables aux muscles de la queue. On les distingue en élévateurs et abaisseurs supérieurs et latéraux, qui naissent du front, des os propres du nez et des cartilages, tant de l’os maxillaire supérieur que de l’intermaxillaire ».\\nLe bout de la trompe d\\'un éléphant d\\'Afrique est en forme d\\'amande, alors que celle d\\'un éléphant d\\'Asie est en forme de poire. L\\'excroissance à son extrémité a une fonction analogue à un doigt, leur permettant de décortiquer une cacahuète. Les éléphants ne boivent pas directement par leur trompe. L\\'effort nécessaire pour se pencher jusqu\\'au sol afin de boire l\\'eau par la bouche étant trop important et l\\'opération étant même impossible lorsque l\\'eau se trouve au-dessous du niveau du sol, ils boivent en remplissant leur trompe avec de l\\'eau qu\\'ils aspirent et gardent momentanément avant de la verser ensuite, par gravité, dans leur bouche.\\nL\\'allongement du museau des proboscidiens anciens à l\\'origine de l\\'éléphant serait lié à la croissance continue des incisives (les défenses) et leur augmentation de taille : herbivores concurrencés par les ruminants et les équidés, leur adaptation trophique se traduit alors par un régime de plantes plus fibreuses peu nutritives et une augmentation de taille corrélative, les proboscidiens fourrageant pendant des heures à la recherche aussi bien de végétaux au sol que de feuilles d\\'arbres.\\n\\n\\t\\t\\n\\t\\t\\n\\n\\n=== Denture et défenses ===\\n\\nLe plus souvent les éléphants ont des défenses, des dents très allongées utilisées par ces animaux comme outil, arme de défense et attribut sexuel. Les défenses sont des dents supérieures à croissance continue. L\\'éléphanteau possède des prémolaires de lait qui tombent lorsque les molaires apparaissent, l\\'adulte n\\'en possède pas. Chez les éléphants adultes il n\\'y a que 6 dents, 2 incisives, ce sont les défenses, et 4 molaires. La formule dentaire est i1/0 c0/0 m1/1.\\n\\n\\n==== Dents ====\\nLes dents sont essentiellement composées d’ivoire et d’émail qui forment la couronne des dents par de nombreuses crêtes transversales, qui sont plus ou moins lamellées. Les crêtes sont disjointes puis, au fur et à mesure, un cément se forme et s’intercale entre les dents pour former un tout. Un petit nombre de dents molaires sont présentes à chaque mâchoire, « parfois une paire (…), (…) une paire à l’une des mâchoires et deux à l’autre, (…) encore deux paires à chacune », de plus les dents correspondantes entre elles « n’ont ni la même apparence, ni le même nombre de lamelles ».\\n\\nSelon les études de Corse et de Blainville, « les éléphants (…) ont six paires de dents à chacune des mâchoires. Ces dents augmentent de volume depuis la première jusqu’à la dernière ou sixième, et le nombre de leurs lamelles (…) est aussi de plus en plus considérable. ». « La succession des dents molaires s’opère ainsi par flots d’une manière lente mais réglée, et l’on admet trois flots différents. Les dents se présentent deux par deux de chaque côté de l’une et de l’autre mâchoire. Le degré plus ou moins avancé de l’usure de chacune d’elles détermine les différences que l’on remarque dans le nombre total de lamelles (…) pour chaque flot ».\\nLes éléphants ont généralement 26 dents : les 2 incisives appelées défenses, 12 prémolaires déciduales et 12 molaires. Contrairement à la plupart des mammifères, qui font pousser des dents de lait, puis les remplacent par un seul ensemble permanent de dents adultes, les éléphants sont des polyphyodontes : ils ont des cycles de rotation dentaire tout au long de leur vie. Les molaires sont remplacées six fois au cours de la vie d\\'un éléphant typique. Les dents ne sont pas remplacées par de nouvelles dents émergeant des mâchoires verticalement comme chez la plupart des mammifères. Au lieu de cela, de nouvelles dents poussent à l\\'arrière de la bouche et avancent pour repousser les anciennes. La première molaire de chaque côté de la mâchoire tombe lorsque l\\'éléphant a 2 ou 3 ans. La deuxième série de molaires tombe à l\\'âge de 4 à 6 ans. La troisième série tombe entre 9 et 15 ans et la quatrième série dure jusqu\\'à 18-28 ans. La cinquième série de dents tombe vers la quarantaine. La sixième poussée — et généralement la dernière — doit durer à l\\'éléphant le reste de sa vie. Les dents d\\'éléphant ont des crêtes dentaires en forme de boucle, qui sont plus épaisses et plus en forme de losange chez les éléphants d\\'Afrique.\\n\\n\\n==== Défenses ====\\n\\nLes défenses d\\'un éléphant sont les deuxièmes incisives modifiées de la mâchoire supérieure. Elles remplacent les dents de lait à l\\'âge de 6 à 12 mois et poussent continuellement d\\'environ 17 cm par an. Une défense nouvellement développée a un capuchon en émail lisse qui finit par s\\'estomper. La dentine est connue sous le nom d\\'ivoire ; sa section transversale se compose de motifs de lignes entrecroisées qui créent des zones en forme de losange. Une grande partie des défenses est visible de l\\'extérieur ; le reste est enserré dans un logement du crâne. Au moins un tiers de la défense contient la pulpe et certains nerfs s\\'étendent jusqu\\'à la pointe. Il serait donc difficile de l\\'enlever sans nuire à l\\'animal. Une fois retiré, l\\'ivoire commence à se dessécher et à se fissurer s\\'il n\\'est pas conservé au frais et à l\\'humidité.\\nL\\'éléphant se sert de ses défenses à plusieurs fins. Il les utilise pour creuser dans l\\'eau, le sel ou parmi les racines; écorcer ou marquer les arbres ; déplacer des arbres et des branches pour dégager un chemin. Lors des combats, elles servent pour attaquer, se défendre, protéger le corps.\\n\\nComme les humains, qui sont généralement droitiers ou gauchers, les éléphants ont généralement une différenciation des défenses droite et gauche. La défense dominante, appelée défense principale, est généralement plus usée et plus courte, avec une pointe plus arrondie. Pour les éléphants d\\'Afrique, les défenses sont présentes chez les mâles et les femelles, et ont à peu près la même longueur pour les deux sexes, atteignant jusqu\\'à 3 m, mais celles des mâles ont tendance à être plus épaisses. Autrefois, les défenses d\\'éléphant pesant 100 kg et plus n\\'étaient pas rares, mais on n\\'en voit plus guère aujourd\\'hui dépassant 50 kg.\\nChez les espèces asiatiques, seuls les mâles ont de grandes défenses. Les femelles asiatiques ont de très petites défenses, voire aucune. Il existe des mâles dépourvus de défenses, particulièrement communs au Sri Lanka. Les mâles asiatiques peuvent avoir des défenses aussi longues que celles des africains, mais elles sont généralement plus minces et plus légères : les plus grandes enregistrées mesuraient 3,02 m de long et pesaient 39 kg. La chasse à l\\'ivoire d\\'éléphant en Afrique et en Asie a conduit à une sélection naturelle pour des défenses plus courtes, ou absentes,.\\n\\n\\n=== Peau ===\\nLa peau de l\\'éléphant est d\\'une épaisseur d\\'environ 2 cm. Cette peau est fragile du fait de la présence de plis où viennent se loger des parasites. Il n\\'y a pratiquement pas de poils, et il n\\'y a ni glande sudoripare, ni glande sébacée. De ce fait, leur peau est sèche, c\\'est pour cela qu\\'elle doit être souvent humectée à l\\'aide d\\'eau projetée par la trompe ou couverte de poussière ou de boue également projetée par leur trompe.\\nLa couleur de la peau est grisâtre ; cependant sa couleur apparente est liée au sol sur lequel évolue l\\'éléphant. Elle peut aussi être due aux bains de boues.\\nLa faible densité des poils (quelques centaines par mètre carré, chaque poil mesurant en moyenne 2 centimètres de longueur et 0,5 mm de diamètre) agit non plus comme une fourrure mais participe — à hauteur de 23 % — avec d\\'autres mécanismes de thermorégulation (battement des oreilles, bains, pulvérisation d\\'eau avec leurs trompes, respiration percutanée) à la thermolyse du mammifère, les poils agissant comme des ailettes qui augmentent la surface d\\'échange et donc les transferts thermiques.\\n\\n\\t\\t\\n\\t\\t\\n\\n\\n=== Oreille ===\\nLes oreilles de l\\'éléphant lui permettent de réguler sa température corporelle, grâce à une vascularisation très importante. Lorsqu\\'il mange des fruits fermentés ayant un degré d\\'alcool d\\'environ 7°, l\\'éléphant remue violemment ses oreilles, de même pour sa queue et sa trompe. Elles sont généralement plus petites chez l\\'éléphant d\\'Asie.\\n\\n\\n=== Cerveau ===\\nLe cerveau de l\\'éléphant, situé à l\\'arrière de son crâne, pèse entre 4 et 6 kg, ce qui est déjà considérable. Si l\\'on compare la taille du cerveau de l\\'éléphant à sa masse corporelle, il est alors le mammifère ayant le plus petit cerveau, alors que la souris possède le plus grand.\\n\\n\\n== Biologie et comportement ==\\n\\n\\n=== Reproduction ===\\n\\n\\n==== Maturité sexuelle ====\\nSi les fonctions reproductrices des éléphants mâles se mettent en place vers l\\'âge de 10-15 ans, ils commencent à se reproduire vers l\\'âge de 30 ans quand ils sont suffisamment imposants pour pouvoir se battre avec d\\'autres mâles pour conquérir les femelles.\\nLes fonctions reproductrices de l\\'éléphant femelle apparaissent de 9 ans jusqu\\'à 15 ans.\\nDans l\\'organisation matriarcale des éléphants, les mâles sont connus pour leur tempérament indépendant et ont tendance à vivre en solitaire, forgeant parfois une alliance provisoire avec un autre individu ou intégrant une bande de manière informelle. Tandis que les femelles entretiennent des liens familiaux étroits et solides.\\n\\n\\n==== Comportement sexuel ====\\n\\nLes mâles en rut, dont le taux sanguin de testostérone peut s\\'accroître cinquante fois, agitent les oreilles et secouent la tête, leur pénis devient vert. Il en dégouline une urine fortement odorante. Cela est dû à la libération d\\'un musc d’une phéromone, la frontaline, sécrétée sous deux formes chirales. Ces deux énantiomères (deux formes : (+)-frontaline et (-)-frontaline) ne sont pas sécrétés en mêmes proportions. Chez les jeunes mâles, la forme (+) domine. Au fur et à mesure de la maturité et de la période de rut, les deux isomères forment un racémique, qui attire les femelles en phase folliculaire et en œstrus. La frontaline est libérée par la glande temporale chez l’éléphant en période de rut, la sécrétion débute peu de temps avant la puberté, à l’âge de 15 ans. Cependant le rut ne se produit qu\\'à partir de 25 ans et ne durera que quelques jours. Puis vers 31-35 ans, celui-ci dure plusieurs semaines. Vers 36-40 ans, il dure de 1 à 2 mois. Pour finir, après 40 ans, le rut s’étend sur une période de 2 à 4 mois. La quantité de phéromones émises augmente avec l’âge de l’éléphant ainsi qu’en milieu de rut. La concentration et la proportion d’énantiomères de la frontaline constituent pour les animaux qui seront attentifs au message une source d’information sur l’âge et le stade du musth de l\\'éléphant qui émet. Une concentration de frontaline, en racémique, sera le synonyme d\\'un mâle mature ayant un statut social important.\\n\\n\\n==== Accouplement ====\\n\\nUne fois que la femelle et le mâle sont ensemble, l\\'accouplement peut commencer. L\\'éléphant mâle étant très lourd, la copulation est très rapide. En général, elle dure entre 20 et 30 secondes. La période de copulations dure environ trois jours.\\nLa jeune femelle est effrayée lors de sa première période de chaleur, le mâle peut la poursuivre. Pour avertir la femelle qu\\'il va la saillir, le mâle pose sa trompe sur son dos ; la femelle s\\'immobilise alors.\\nLes mâles passent dans les troupeaux de femelles lors de leur rut pour sentir les vulves des femelles.\\n\\n\\n==== Gestation et mise bas ====\\n\\nLa gestation d\\'une éléphante est la plus longue de tous les mammifères terrestres. Elle dure de 20 à 22 mois. La durée d\\'allaitement est comprise entre 36 et 48 mois. Les mises bas s\\'espacent d\\'environ 2 ans et demi à 5 ans. La gestation est plus longue pour un éléphanteau mâle que pour un éléphanteau femelle.\\nUne éléphante peut être en gestation jusqu\\'à l\\'âge de cinquante ans. Dans la plupart des cas, un seul éléphant est porté ; les cas de gémellité sont très rares.\\n\\n\\n=== Vie sociale ===\\n\\nLes éléphants vivent dans une société matriarcale. Cette structure matriarcale existe depuis plus de sept millions d\\'années, des empreintes d\\'une harde d\\'éléphants de cette époque ayant été découvertes sur une surface de 5 hectares sur le site de Mleisa 1 dans les Émirats arabes unis, faisant de cette piste de mammifères fossile la plus vieille de ce type et probablement la plus longue piste préservée dans le monde. Les troupeaux sont composés d\\'une dizaine d\\'éléphantes et de jeunes éléphanteaux, après la maturité sexuelle les mâles quittent le groupe. Ils errent jusqu\\'à ce qu\\'ils fassent alliance avec d\\'autres jeunes mâles.\\nUne étude, menée dans un zoo, montre que l\\'éléphant aime les fruits fermentés à un degré d\\'alcool de 7°. Lorsque l\\'éléphant est saoul, il perd de sa sociabilité (alors que sobre il est très sociable). Lorsqu\\'il est ivre, il reste à l\\'écart du troupeau. Un chercheur américain défendait l\\'idée que les animaux s\\'enivrent ou se droguent, volontairement, pour oublier les tourments de leur existence. Pour le prouver, il a fait vivre durant un mois des éléphants d\\'une réserve californienne sur un territoire plus restreint qu\\'à leur accoutumée. La surpopulation due au petit espace a angoissé les animaux qui, du coup, ont bu trois fois plus que d\\'habitude. Ils sont devenus si agressifs qu\\'il a été dangereux de les approcher.\\n\\n\\n=== Communication ===\\nLe cri de l\\'éléphant est le barrissement. De récentes études scientifiques ont montré que les éléphants, comme de nombreux animaux, sont sensibles aux infrasons. L\\'utilité de l\\'audition de ces infrasons reste cependant mystérieuse. Il semble qu\\'ils soient capables de communiquer entre eux par les ondes acoustiques de surface transmises par le sol.\\n\\n\\n=== Sommeil ===\\nLes éléphants peuvent dormir debout ou couchés. Le fait de se coucher indique qu\\'ils sont parfaitement détendus.\\n\\n\\n=== Alimentation ===\\n\\nL\\'éléphant est herbivore, il mange une grande variété d\\'éléments végétaux : herbes, plantes, feuilles, fruits, racines et tubercules, écorces et même du bois. Il apprécie par exemple le bois tendre et gorgé de sève du baobab.\\nLes besoins alimentaires de l\\'éléphant sont importants, surtout qualitativement. En fonction de son environnement, il consacre une grande partie de son temps à la recherche de nourriture (16 à 20 heures par jour), se déplaçant sur de longues distances et sélectionnant les aliments les plus riches. Il peut se dresser sur ses pattes arrière pour attraper avec sa trompe les rameaux les plus tendres jusqu\\'à cinq ou six mètres de hauteur.\\nQuotidiennement, il faut à l\\'éléphant entre 150 et 180 kilogrammes de nourriture en saison sèche, et entre 200 et 260 kilogrammes en saison des pluies. Ces quantités varient aussi en fonction des espèces et des milieux fréquentés.\\nUn éléphant adulte boit jusqu\\'à 140 L d\\'eau par jour. Il aspire dans sa trompe jusqu\\'à dix litres à la fois, puis se les verse dans la bouche. Il peut rester trois ou quatre jours sans boire. Il peut se servir de sa trompe pour reprendre de l\\'eau dans son estomac et s\\'en servir pour se rafraîchir la peau. Sa peau très épaisse est l\\'objet de soins constants : outre les aspersions, les baignades et les roulades dans la boue, le poudrage à la poussière est bienvenu pour protéger l\\'épiderme des insectes et du soleil.\\nMalgré la quarantaine de mètres d\\'intestin qu\\'il possède, sa digestion est peu efficace. Elle dure environ 12 heures après les 16 à 20 heures où il a cherché à se nourrir, 40 à 60 % de la nourriture n\\'étant pas digérée. Si son alimentation n\\'est pas suffisamment riche, son tonus, son humeur et sa santé en général sont rapidement affectés.\\nLe comportement alimentaire a en général un impact important sur le milieu. Le bilan de ces conséquences varie en fonction des espèces (Afrique, Asie), de la saison, du biotope et de la densité de la population. Ainsi, l\\'éléphant peut être considéré comme destructeur d\\'arbres en particulier dans la savane, alors qu\\'il participe ailleurs très activement à la régénération en limite des zones forestières. Certaines espèces d\\'arbres sont dépendantes de l\\'éléphant pour leur extension : celui-ci, friand de leurs fruits, en dissémine les graines avec l\\'excellent terreau que constitue son crottin, capable de contenir jusqu\\'à 35 % de graines.\\n\\n\\n=== Intelligence ===\\n\\nEn l’état actuel des connaissances, l’éléphant est, avec l\\'humain, le dauphin, le corbeau et certaines espèces de grands singes, l\\'une des rares espèces animales à réussir le test du miroir de Gallup : lorsqu’on marque d’une tache le front d’un éléphant en un point qu’il ne peut voir directement et qu’on lui présente un miroir, il passe sa trompe sur la tache ; démontrant ainsi qu’il a reconnu son image et donc qu’il a conscience de lui-même,,.\\nLes éléphants peuvent utiliser des outils de défense, telles des pierres saisies avec leur trompe et qu\\'ils lancent sur leurs ennemis. Ils peuvent également se toiletter en se grattant avec des branches ou des baguettes des parties de corps qu\\'ils ne peuvent atteindre avec leur trompe. Ils présentent ainsi un exemple d’utilisation d\\'outil par un animal.\\nLors d\\'une expérimentation de Preston Foerder, un éléphant (d\\'Asie, Elephas maximus) s\\'est montré capable d\\'un éclair de compréhension (d\\'insight). Il est allé chercher un cube pour monter dessus et atteindre de la nourriture,.\\n\\n\\n=== Perception ===\\nLes éléphants sont réputés pour leur capacité à anticiper l\\'arrivée des intempéries. il semblerait qu\\'ils soient capables d\\'entendre les sons provoqués par le déplacement des nuages.\\n\\n\\n== Systématique ==\\n\\n\\n=== Taxonomie ===\\n\\nL’éléphant d\\'Asie et l’éléphant d’Afrique ont longtemps été considérés comme les deux seules espèces représentant la famille des Éléphantidés à l’époque moderne. Depuis, de récentes études génétiques ont permis de distinguer deux sous-espèces africaines distinctes : Loxodonta africana africana (« éléphant de la savane ») et Loxodonta africana cyclotis (« éléphant des forêts »).\\n\\nLes espèces d\\'Éléphantidés vivant à l’heure actuelle sont donc :\\n\\n\\n=== Histoire évolutive ===\\n\\nL’extinction Crétacé-Tertiaire est suivie d\\'une diversification très rapide des ongulés africains, notamment l\\'ordre des Proboscidiens dont les plus anciennes espèces découvertes à ce jour sont Eritherium azzouzorum et Phosphatherium escuilliei, datant de la fin du Paléocène il y a 60 millions d\\'années. Sans trompe mais avec une première incisive agrandie (rappelant la naissance d\\'une défense) et des orbites oculaires en position antérieure, ces premiers proboscidiens sont petits et graciles, ont un corps bas sur pattes et un mode de vie semi-aquatique, à l\\'instar de Moeritherium.\\nAprès un déclin à l\\'oligocène, les proboscidiens connaissent une diversification avec l\\'apparition des Deinotheriidae et des Mammutidae. La seconde radiation évolutive voit l\\'émergence au début du Miocène des Gomphotheriidae qui sont à l\\'origine des Elephantidae et des Stegodontidae, familles qui correspondent à la troisième radiation évolutive au miocène supérieur.\\nLes Proboscidiens présents sur le continent américain, tels Mammut americanum ou Haplomastodon, se sont éteints il y a une dizaine de milliers d\\'années.\\n\\n\\n== L\\'éléphant et l\\'homme ==\\n\\n\\n=== Menaces de disparition ===\\n\\n\\n==== Chasse et braconnage ====\\n\\nDurant des millénaires, l\\'homme chassa l\\'éléphant pour sa consommation et pour le commerce de l\\'ivoire tiré des défenses. Durant l\\'Antiquité, les éléphants de Nubie furent utilisés dans les armées des Carthaginois. Au XVe siècle av. J.-C., il y avait encore des éléphants sur les bords de l\\'Euphrate, où le pharaon Thoutmôsis Ier chassait l\\'éléphant.\\nLa population des éléphants africains et asiatiques a été décimée, passant de plusieurs millions d\\'individus au début des années 1970 à quelques centaines de milliers 30 ans plus tard. Si bien qu\\'en 1989, la CITES interdit le commerce de l\\'ivoire. Les éléphants sont désormais considérés comme des espèces protégées et la chasse aux éléphants est très réglementée.\\nLe braconnage s\\'intensifie malheureusement chaque année. En 2011, entre 25 000 et 30 000 éléphants ont été abattus sauvagement afin de récupérer leurs défenses et alimenter les commerces illégaux notamment en provenance d\\'Asie.\\nL\\'éléphant n\\'a pas réellement de prédateurs hormis les humains. De grands fauves tels le lion ou le tigre peuvent exercer une prédation sur les petits et les individus faibles, mais vu le nombre d\\'herbivores plus faciles à chasser, il n\\'y a que peu de chance que ces prédateurs se rabattent sur l\\'éléphant, bien trop imposant.\\nSelon l’Union internationale pour la conservation de la nature (UICN), la population des éléphants d’Afrique a sensiblement diminué au cours des années 2010 : le continent compte en 2019 environ 415 000 spécimens, soit 111 000 de moins que lors de la précédente décennie.\\n\\n\\n==== L\\'éléphant des forêts africaines menacé d\\'extinction d\\'ici 2025 ====\\nAu terme de la conférence organisée à Bangkok du 3 au 14 mars 2013, par la CITES, à laquelle 178 pays ont participé, l\\'état d\\'esprit était au pessimisme concernant la protection des éléphants « victimes dans leurs pays d\\'origine d\\'un braconnage sans précédent et d\\'un commerce effréné en Asie ». Nombre d\\'ONG concernées par cette action pensent que « la communauté internationale a échoué à protéger les éléphants ». Depuis 2007 le trafic d\\'ivoire a doublé et plus que triplé par rapport à 1998. Le nombre d\\'éléphants africains, selon les enquêtes présentées à la conférence, est compris entre 420 000 et 650 000. 25 000 ont été tués en 2011 et probablement 30 000 en 2012. Publiée en mars 2013 dans la revue PLoS One, une autre étude révèle que 62 % des éléphants des forêts ont été abattus durant ces dix dernières années. Si ce rythme perdure, ils pourraient disparaitre d\\'Afrique centrale d\\'ici 2025. Les spécialistes affirment qu\\'à terme, si le braconnage ne cesse pas, tous les éléphants du continent seront menacés d\\'extinction.\\n\\nÀ Gembloux Agro-Bio Tech - Université de Liège en Belgique, plusieurs chercheurs avaient déjà fait le même constat pour la population des éléphants de l\\'Afrique de l\\'Ouest. En 40 ans, leur nombre a diminué de moitié.\\nL\\'ONG Save the Elephants estime que le commerce illégal de l\\'ivoire à Hong Kong menace la survie des éléphants, étant donné que le marché de l\\'ivoire en Chine et en Asie du Sud-Est passe en grande partie par Hong Kong.\\n\\n\\n=== Perte d\\'habitat ===\\n\\nL\\'augmentation des risques de conflits d\\'intérêt pour l\\'habitat avec des populations humaines menace la survie de l\\'éléphant. Ce conflit tue 150 éléphants et un peu plus de 100 personnes par an au Sri Lanka. Contrairement à son cousin d\\'Afrique, l\\'éléphant d\\'Asie, possède de petites défenses. La disparition de celui-ci est principalement attribuée à la perte de son habitat. De grands morceaux de forêt disparaissent, ce qui touche profondément leur écosystème. Les arbres contribuent à l\\'ancrage du sol et l\\'absorption des eaux de ruissellement. La déforestation entraine des inondations et une érosion massive. Lorsque la forêt est réduite, les éléphants deviennent une partie du problème, car ils détruisent rapidement la végétation de la zone où ils vivent et éliminent toutes les ressources en nourriture.\\n\\n\\n=== Parcs nationaux ===\\n\\nLa première réserve officielle, Parc national Kruger, est peut-être la plus connue des réserves et celle ayant obtenu le plus grand succès. Cependant, de nombreux problèmes sont apparus depuis sa création. Les clôtures de la réserve ont coupé de nombreux animaux de leur alimentation en hiver ou de leurs zones de reproduction au printemps. Certains animaux sont morts, alors que d\\'autres comme les éléphants ont démoli les clôtures, entraînant des ravages dans les champs voisins. Lorsque les éléphants sont limités à un petit territoire, les dégâts infligés au paysage peuvent être énormes.\\nDe ce fait, certaines réserves, comme le Parc national Kruger, de l\\'avis de certains gestionnaires de faune sauvage, ont souffert de la surpopulation des éléphants, au détriment d\\'autres espèces de la faune dans la réserve. Le 25 février 2008, l\\'Afrique du Sud a annoncé que l\\'abattage pour contrôler le nombre d\\'éléphants, arrêté depuis 1994, reprendrait. Les défenseurs des droits des animaux ont menacé d\\'un appel au boycott par les touristes et à d\\'autres formes d\\'oppositions.\\n\\n\\n=== Utilisation par l\\'Homme ===\\n\\nLes éléphants en captivité (en) sont utilisés ou exhibés dans les cirques, ménageries (tel Abul-Abbas, l\\'éléphant blanc de Charlemagne et Hanno, celui du pape Léon X) et zoos (tel le célèbre Jumbo). On ne peut pas parler à leur égard de domestication car le cycle de vie de l\\'éléphant est trop long pour que cela soit économiquement rentable par rapport à une capture d\\'individus sauvages, la phase précédant la maturité sexuelle de l\\'animal durant plus de 10 ans.\\n\\nUtilisé comme animal de trait par les humains, ainsi que lors de batailles en tant qu\\'éléphant de guerre, l\\'éléphant a occupé de nombreuses fonctions, notamment celle d\\'exécuteur lors d\\'exécutions par éléphant. En 1914-1918, des éléphants de cirque ont en Europe par exemple servi à débarder le bois en forêt (de Mormal, dans le Nord de la France), ou encore à labourer, ou à tirer des wagons dans les usines de munitions.\\nL\\'éléphant peut également être entrainé par anéantissement.\\nLe conducteur d\\'un éléphant est appelé cornac ou mahout.\\n\\n\\n=== Expression ===\\n“avoir une mémoire d’éléphant” veut dire que l’ont a une très bonne mémoire \\n\\n\\n=== Produits dérivés ===\\n\\nÀ l\\'origine, les éléphants étaient chassés par les hommes pour leur viande.\\nCertaines parties, comme les pieds d\\'éléphants, ou des animaux entiers étaient naturalisés. Les poils et les défenses d\\'ivoire, bien sûr, étaient aussi utilisés. On s\\'en servait pour fabriquer des objets de décoration et en bijouterie, ou bien ils étaient destinés, ainsi que les dents et les ossements, à des cabinets de curiosité ou des museums.\\nL\\'ivoire a longtemps fait l\\'objet d\\'un commerce important qui subsiste encore parfois sous forme de trafic illégal malgré le statut de protection dont bénéficient les éléphants survivants.\\n\\n\\n=== Culture ===\\n\\n\\n==== Symbolique ====\\nDans la symbolique occidentale comme orientale, l\\'éléphant est associé à la mémoire, la sagesse, la longévité, la prospérité, la bienveillance, le père. Pour beaucoup de peuples africains, l\\'éléphant tient le rôle du père, du chef des animaux, du roi.\\n\\n\\n===== Orient =====\\n\\nL\\'éléphant apparaît dans la panthéon hindouiste et bouddhiste à partir du troisième millénaire avant Jésus-Christ, époque de sa domestication.\\nDans la religion hindoue, Ganesh est un dieu à tête d’éléphant ; il est le dieu de la Sagesse et le patron des étudiants. Les rares éléphants blancs sont les plus sacrés en Inde, et les éléphants domestiqués et décorés aux couleurs des dieux bénissent les fidèles de leur trompe dans certains temples.\\nEn Inde, l’éléphant évoque la force, la puissance, l\\'orage (forme ronde et grise des nuages de pluie), et il est sacré. Chaque dieu hindou chevauche un animal : Indra, dieu des Orages et de la Bataille, et Agni, dieu du Feu, se déplacent à dos d’éléphant.\\nAu Laos, passer sous la trompe d\\'un éléphant permet d\\'acquérir ses attributs : force, longévité, fertilité et caractère sacré. Chaque année à l\\'occasion du Nouvel An bouddhique, les cornacs laotiens organisent un baci ou soukhouan, cérémonie de rappel des âmes, pour leur éléphant.\\n\\n\\n===== Islam =====\\nDans le Coran, la 105e sourate (la 19e dans l’ordre chronologique) s\\'intitule Al-Fîl (l’Éléphant). Elle comprend cinq versets révélés à la Mecque et doit son nom à l’expression « ashâb al-fîl » (les gens de l’éléphant) présente dans le tout premier verset. Cette expression désigne les Abyssins, qui occupaient le Yémen voisin, voulaient évangéliser l’Arabie tout entière, notamment en attaquant la Kaaba, à La Mecque. En raison des entraves qu’ils mettaient au pèlerinage, le « ministre du calendrier » dans le gouvernement mecquois se vengea en profanant l’église de Sana\\'a. C’est alors que le gouverneur abyssin fit venir un éléphant de taille gigantesque appelé Mahmoud et dirigea une expédition sur La Mecque.\\n\\n\\n===== Occident =====\\nDans la symbolique chrétienne, l\\'éléphant symbolise le baptême : la femelle met bas dans l\\'eau d\\'un étang à côté duquel le mâle monte la garde pour écarter le dragon, symbole de l\\'esprit du mal.[réf. nécessaire]Dans la symbolique chrétienne, il représente aussi la chasteté (de tempérament frigide, il ne peut engendrer qu\\'après avoir absorbé, en guise d\\'aphrodisiaque, une racine de mandragore), la constance, la maîtrise de soi, la bénignité des princes (il n\\'a pas de fiel), la tempérance, la circonspection et la prudence.[réf. nécessaire]En France, on dit de quelqu\\'un qui a une bonne mémoire qu\\'il a « une mémoire d\\'éléphant » ; effectivement, l\\'éléphant a une excellente mémoire pour se rappeler ses congénères ou retrouver les pistes qu\\'il emprunte chaque année pour chercher sa nourriture. Sa mémoire visuelle lui permet également de se rappeler très longtemps les visages humains[source insuffisante].\\nL\\'éléphant représente les quatre piliers du monde : il porte le monde sur son dos.\\nL\\'éléphant est le symbole de la ville de Catane, en Italie, depuis le Moyen Âge (mais le lien remonte peut-être à l\\'Antiquité). La Fontaine de l\\'éléphant s\\'y dresse sur la place de la cathédrale.\\n\\n\\n===== Afrique =====\\nL\\'éléphant est l\\'emblème de la Côte d\\'Ivoire.\\nL\\'éléphant est symbole de royauté, de puissance et de sagesse et ce en général pour les peuples de tout le continent africain.\\nSon image est utilisée dans les cérémonies et danses, pour la fabrication des masques ou encore de mobiliers, d\\'objets rituels, dans beaucoup de tribus notamment chez les Bamileke de l\\'ouest du Cameroun ou encore chez les Gurusi du Burkina Faso.\\nHors tribus, l\\'éléphant est un symbole important au même titre que le lion et son image est présente au quotidien dans le monde africain.\\n\\n\\n===== Politique =====\\nEn politique, l\\'image de l\\'éléphant a pu être utilisé dans différents pays pour caractériser des courants politiques ou des politiciens : ainsi, l\\'emblème du Parti républicain américain est un éléphant, et certains des membres les plus influents du Parti socialiste français sont surnommés les « éléphants ».\\n\\n\\n===== Art =====\\n\\nDes représentations picturales de l\\'éléphant sont retrouvées en Occident dès le XIIe siècle comme dans le quartier historique de Montferrand sur la « Maison de l\\'Éléphant » (12 rue Kléber).\\nL\\'ivoire des défenses de l\\'éléphant a longtemps servi à la réalisation d\\'œuvres d\\'art. Les œuvres en or et ivoire sont qualifiées de chryséléphantines — chrusos, or en grec. Ce nom a été déformé en olifant, pour désigner une corne (instrument de musique) en ivoire.\\n\\n\\n===== Sport =====\\nEn sport, certaines équipes nationales portent des surnoms à l\\'image de l\\'éléphant :\\n\\nLa Côte d\\'Ivoire : Les éléphants\\nLa Guinée : Le Sily national (L\\'éléphant national)\\nLa Thaïlande : Les éléphants de guerre\\n\\n\\n==== Fiction ====\\n\\nLes éléphants ont inspiré de nombreux artistes. La liste ci-après est loin d\\'être exhaustive.\\n\\nCinéma :\\nLes Racines du ciel (The Roots of Heaven) de John Huston (1958), tiré du roman de Romain Gary.\\nTusk d\\'Alejandro Jodorowsky (1980).\\nChasseur blanc, cœur noir (White Hunter Black Heart) de Clint Eastwood (1990, inspiré par John Huston, chasseur d\\'éléphant sur le tournage de the African Queen en 1950).\\nSunny et l\\'éléphant de Frédéric Lepage, 2008.\\nDe l\\'eau pour les éléphants de Francis Lawrence, 2011, tiré du roman de Sara Gruen.\\nElephant Boy de Robert J. Flaherty en 1937\\nGrimsby : Agent trop spécial de Louis Leterrier (2016), Norman \"Nobby\" Butcher (Sacha Baron Cohen) se cache dans le vagin d\\'une éléphante.\\nDocumentaire\\nL\\'Homme et l’Éléphant de Vijay Singh.\\nDessins animés :\\nDumbo.\\nWinnie l\\'ourson et l\\'Éfélant\\nBabar\\nLittérature :\\nLes Racines du ciel de Romain Gary, Prix Goncourt en 1956.\\nLes Annales du disque-monde de Terry Pratchett (le disque-monde est soutenu par quatre éléphants géants).\\nL\\'Éléphant et le Singe de Jupiter de Jean de La Fontaine.\\nLe Voyage de l\\'éléphant de José Saramago\\nLittérature jeunesse :\\nHistoires comme ça de Rudyard Kipling (L\\'Enfant d\\'éléphant)\\nPoo Lorn l\\'éléphant de Reginald Campbell\\nLe Livre de la jungle de Rudyard Kipling (personnages de Hathi et de Kala Nag).\\nBabar de Laurent de Brunhoff\\nUn éléphant ça compte énormément de Helme Heine\\nLe Mystère de l\\'éléphant bleu de Enid Blyton\\nLa Maison éléphant de Henriette Bichonnier\\n Elmer, l\\'éléphant multicolore de David McKee\\nPomelo, l\\'éléphant rose, texte de Ramona Bádescu, illustrations de Benjamin Chaud : une quinzaine de titres, depuis 2002. Plusieurs de ces titres font partie de la « Bibliothèque jeunesse idéale » du Centre national de la littérature pour la jeunesse (BnF).\\n\\t\\t\\n\\n\\n== Notes et références ==\\n\\n\\n== Annexes ==\\n\\n\\n=== Bibliographie ===\\nElephants: Majestic Creatures of the Wild, Checkmark Books, 2000 (ISBN 978-0-87596-143-9, OCLC 475147472)\\n\\n\\n=== Articles connexes ===\\nBouse d\\'éléphant\\nIntelligence animale\\nÉléphant de guerre\\nHanno\\nListe d\\'éléphants de fiction\\nOrdre de l’Éléphant\\nMammouphant\\nBraconnage\\nÉléphant rose\\n\\n\\n=== Références taxonomiques ===\\n(en) Référence Mammal Species of the World (3e éd., 2005) : Elephas maximus  \\n(fr+en) Référence ITIS : genre Loxodonta Cuvier, 1825\\n(en) Référence Animal Diversity Web : Elephas maximus\\n(en) Référence UICN : espèce Elephas maximus Linnaeus, 1758\\n(en) Référence NCBI : genre Loxodonta (taxons inclus)\\n(en) Référence Fonds documentaire ARKive : Loxodonta africana  \\n(en) Référence Fonds documentaire ARKive : Elephas maximus  \\n\\n\\n=== Liens externes ===\\nAnalyse des instruments internationaux de lutte contre le trafic et le braconnage des espèces menacées en Afrique centrale : le cas de l\\'éléphant et du gorille\\n« Physiologie de l\\'éléphant », sur elephants.free.fr\\nUn dossier sur l\\'éléphant chez Futura-Sciences\\n« Chang Nam : La légende des éléphants nains aquatiques en Thaïlande », sur magiedubouddha.com\\n Portail des mammifères'"
            ],
            "application/vnd.google.colaboratory.intrinsic+json": {
              "type": "string"
            }
          },
          "metadata": {},
          "execution_count": 4
        }
      ]
    },
    {
      "cell_type": "markdown",
      "metadata": {
        "id": "EZkmNJ7XO9xX"
      },
      "source": [
        "We need to clean this up a bit. Let us remove all the special characters and keep only 26 letters and space. Note that this will remove accented characters in French also. We are also removing all the numbers and spaces. So this is not an ideal solution."
      ]
    },
    {
      "cell_type": "code",
      "metadata": {
        "id": "e5yf5P9pPI4t"
      },
      "source": [
        "def cleanup(text):\n",
        "  text = text.lower()  # make it lowercase\n",
        "  text = re.sub('[^a-z]+', '', text) # only keep characters\n",
        "  return text"
      ],
      "execution_count": 5,
      "outputs": []
    },
    {
      "cell_type": "code",
      "metadata": {
        "id": "qrOjC32fRuTK"
      },
      "source": [
        "eng1 = cleanup(eng1)\n",
        "eng2 = cleanup(eng2)\n",
        "fr1 = cleanup(fr1)\n",
        "fr2 = cleanup(fr2)"
      ],
      "execution_count": 6,
      "outputs": []
    },
    {
      "cell_type": "code",
      "metadata": {
        "id": "rIdqvL2G-LqL",
        "colab": {
          "base_uri": "https://localhost:8080/"
        },
        "outputId": "e35e1375-bc43-4609-c08d-947c5ed43d83"
      },
      "source": [
        "print(eng1)"
      ],
      "execution_count": 7,
      "outputs": [
        {
          "output_type": "stream",
          "name": "stdout",
          "text": [
            "thegiraffeisatallafricanhoofedmammalbelongingtothegenusgiraffaitisthetallestlivingterrestrialanimalandthelargestruminantonearthtraditionallygiraffeswerethoughttobeonespeciesgiraffacamelopardaliswithninesubspeciesmostrecentlyresearchersproposeddividingthemintouptoeightextantspeciesduetonewresearchintotheirmitochondrialandnucleardnaaswellasmorphologicalmeasurementssevenotherextinctspeciesofgiraffaareknownfromthefossilrecordthegiraffeschiefdistinguishingcharacteristicsareitsextremelylongneckandlegsitshornlikeossiconesanditsspottedcoatpatternsitisclassifiedunderthefamilygiraffidaealongwithitsclosestextantrelativetheokapiitsscatteredrangeextendsfromchadinthenorthtosouthafricainthesouthandfromnigerinthewesttosomaliaintheeastgiraffesusuallyinhabitsavannahsandwoodlandstheirfoodsourceisleavesfruitsandflowersofwoodyplantsprimarilyacaciaspecieswhichtheybrowseatheightsmostotherherbivorescannotreachlionsleopardsspottedhyenasandafricanwilddogsmaypreyupongiraffesgiraffesliveinherdsofrelatedfemalesandtheiroffspringorbachelorherdsofunrelatedadultmalesbutaregregariousandmaygatherinlargeaggregationsmalesestablishsocialhierarchiesthroughneckingcombatboutswheretheneckisusedasaweapondominantmalesgainmatingaccesstofemaleswhichbearsoleresponsibilityforraisingtheyoungthegiraffehasintriguedvariousancientandmodernculturesforitspeculiarappearanceandhasoftenbeenfeaturedinpaintingsbooksandcartoonsitisclassifiedbytheinternationalunionforconservationofnatureiucnasvulnerabletoextinctionandhasbeenextirpatedfrommanypartsofitsformerrangegiraffesarestillfoundinnumerousnationalparksandgamereservesbutestimatesasofindicatethereareapproximatelymembersofgiraffainthewildmorethanwerekeptinzoosinetymologythenamegiraffehasitsearliestknownoriginsinthearabicwordzarfahperhapsborrowedfromtheanimalssomalinamegerithearabnameistranslatedasfastwalkerinearlymodernenglishthespellingsjarrafandziraphwereusedprobablydirectlyfromthearabicandinmiddleenglishorafleandgyrfauntgerfaunttheitalianformgiraffaaroseinthesthemodernenglishformdevelopedaroundfromthefrenchgirafecamelopardisanarchaicenglishnameforthegiraffeitderivesfromtheancientgreekkamloprdalisfromkmloscamelandprdalisleopardreferringtoitscamellikeshapeandleopardlikecolourationtaxonomycarllinnaeusoriginallyclassifiedlivinggiraffesasonespeciesinhegaveitthebinomialnamecervuscamelopardalismortenthranebrnnichclassifiedthegenusgiraffainthespeciesnamecamelopardalisisfromlatinevolutionthegiraffeisoneofonlytwolivinggeneraofthefamilygiraffidaeintheorderartiodactylatheotherbeingtheokapithefamilywasoncemuchmoreextensivewithoverfossilgeneradescribedtheelongationoftheneckappearstohavestartedearlyinthegiraffelineagecomparisonsbetweengiraffesandtheirancientrelativessuggestvertebraeclosetotheskulllengthenedearlierfollowedbylengtheningofvertebraefurtherdownoneearlygiraffidancestorwascanthumeryxwhichhasbeendatedvariouslytohavelivedmillionyearsagomyamyaormyaandwhosedepositshavebeenfoundinlibyathisanimalwasmediumsizedslenderandantelopelikegiraffokeryxappearedmyaontheindiansubcontinentandresembledanokapiorasmallgiraffeandhadalongerneckandsimilarossiconesgiraffokeryxmayhavesharedacladewithmoremassivelybuiltgiraffidslikesivatheriumandbramatheriumgiraffidslikepalaeotragusshansitheriumandsamotheriumappearedmyaandlivedthroughoutafricaandeurasiatheseanimalshadbareossiconesandsmallcranialsinusesandwerelongerwithbroaderskullspaleotragusresembledtheokapiandmayhavebeenitsancestorothersfindthattheokapilineagedivergedearlierbeforegiraffokeryxsamotheriumwasaparticularlyimportanttransitionalfossilinthegiraffelineageasitscervicalvertebraewereintermediateinlengthandstructurebetweenamoderngiraffeandanokapiandweremoreverticalthantheokapisbohliniawhichfirstappearedinsoutheasterneuropeandlivedmyawaslikelyadirectancestorofthegiraffebohliniacloselyresembledmoderngiraffeshavingalongneckandlegsandsimilarossiconesanddentitionbohliniaenteredchinaandnorthernindiainresponsetoclimatechangefromtherethegenusgiraffaevolvedandaroundmyaenteredafricafurtherclimatechangescausedtheextinctionoftheasiangiraffeswhiletheafricangiraffessurvivedandradiatedintoseveralnewspecieslivinggiraffesappeartohavearisenaroundmyaineasternafricaduringthepleistocenesomebiologistssuggestthemoderngiraffesdescendedfromgjumaeothersfindggracilisamorelikelycandidategjumaewaslargerandmoreheavilybuiltwhileggraciliswassmallerandmorelightlybuiltthechangesfromextensiveforeststomoreopenhabitatswhichbeganmyaarebelievedtobethemaindriverfortheevolutionofgiraffesduringthistimetropicalplantsdisappearedandwerereplacedbyaridcplantsandadrysavannahemergedacrosseasternandnorthernafricaandwesternindiasomeresearchershavehypothesisedthatthisnewhabitatcoupledwithadifferentdietincludingacaciaspeciesmayhaveexposedgiraffeancestorstotoxinsthatcausedhighermutationratesandahigherrateofevolutionthecoatpatternsofmoderngiraffesmayalsohavecoincidedwiththesehabitatchangesasiangiraffesarehypothesisedtohavehadmoreokapilikecolourationsthegiraffegenomeisaroundbillionbasepairsinlengthcomparedtothebillionbasepairsoftheokapioftheproteinsingiraffeandokapigenesareidenticalthedivergenceofgiraffeandokapilineagesdatestoaroundmyaasmallgroupofregulatorygenesinthegiraffeappeartoberesponsiblefortheanimalsstatureandassociatedcirculatoryadaptationsspeciesandsubspeciestheinternationalunionforconservationofnatureiucncurrentlyrecognisesonlyonespeciesofgiraffewithninesubspeciesduringthesvarioustaxonomieswithtwoorthreespecieswereproposedastudyonthegeneticsofgiraffesusingmitochondrialdnasuggestedatleastsixlineagescouldberecognisedasspeciesastudyusingdetailedanalysesofthemorphologyofgiraffesandapplicationofthephylogeneticspeciesconceptdescribedeightspeciesoflivinggiraffesastudyalsoconcludedthatlivinggiraffesconsistofmultiplespeciestheresearcherssuggestedtheexistenceoffourspecieswhichhavenotexchangedgeneticinformationbetweeneachotherfortomillionyearsastudyshowedthatdependingonthemethodchosendifferenttaxonomichypothesesrecognizingfromtwotosixspeciescanbeconsideredforthegenusgiraffathatstudyalsofoundthatmultispeciescoalescentmethodscanleadtotaxonomicoversplittingasthosemethodsdelimitgeographicstructuresratherthanspeciesthethreespecieshypothesiswhichrecognisesgcamelopardalisggiraffaandgtippelskirchiishighlysupportedbyphylogeneticanalysesandalsocorroboratedbymostpopulationgeneticandmultispeciescoalescentanalysesawholegenomesequencingstudysuggeststheexistenceoffourdistinctspeciesandsevensubspeciesthecladogrambelowshowsthephylogeneticrelationshipbetweenthefourproposedspeciesandsevensubspeciesbasedonthegenomeanalysisnotetheeightlineagescorrespondtoeightofthetraditionalsubspeciesintheonespecieshypothesistherothschildgiraffeissubsumedintogcamelopardaliscamelopardalisthefollowingtablecomparesthedifferenthypothesesforgiraffespeciesthedescriptioncolumnshowsthetraditionalninesubspeciesintheonespecieshypothesisthefirstextinctspeciestobedescribedwasgiraffasivalensisfalconerandcautleyareevaluationofavertebrathatwasinitiallydescribedasafossilofthelivinggiraffewhiletaxonomicopinionmaybelackingonsomenamestheextinctspeciesthathavebeenpublishedincludegiraffagracilisgiraffajumaegiraffapriscillagiraffapomeligiraffapunjabiensisgiraffapygmaeagiraffasivalensisgiraffastilleiappearanceandanatomyfullygrowngiraffesstandmfttallwithmalestallerthanfemalestheaverageweightiskglbforanadultmaleandkglbforanadultfemaledespiteitslongneckandlegsitsbodyisrelativelyshorttheskinismostlygrayortanandcanreachathicknessofmminthecentimetresinlongtailendsinalongdarktuftofhairandisusedasadefenseagainstinsectsthecoathasdarkblotchesorpatcheswhichcanbeorangechestnutbrownornearlyblackseparatedbylighthairusuallywhiteorcreamcolouredmalegiraffesbecomedarkerastheyagethecoatpatternhasbeenclaimedtoserveascamouflageinthelightandshadepatternsofsavannahwoodlandswhenstandingamongtreesandbushestheyarehardtoseeatevenafewmetresdistancehoweveradultgiraffesmoveabouttogainthebestviewofanapproachingpredatorrelyingontheirsizeandabilitytodefendthemselvesratherthanoncamouflagewhichmaybemoreimportantforcalveseachgiraffehasauniquecoatpatterncalvesinheritsomecoatpatterntraitsfromtheirmothersandvariationinsomespottraitsiscorrelatedwithneonatalsurvivaltheskinundertheblotchesmayserveaswindowsforthermoregulationbeingsitesforcomplexbloodvesselsystemsandlargesweatglandsthefurmaygivetheanimalchemicaldefenseasitsparasiterepellentsgiveitacharacteristicscentatleastmainaromaticchemicalsareinthefuralthoughindoleandmethylindoleareresponsibleformostofthesmellbecausemaleshaveastrongerodourthanfemalesitmayalsohaveasexualfunctionheadbothsexeshaveprominenthornlikestructurescalledossiconesformedfromossifiedcartilagecoveredinskinandfusedtotheskullattheparietalbonesbeingvascularisedtheossiconesmayhavearoleinthermoregulationandareusedincombatbetweenmalesappearanceisareliableguidetothesexorageofagiraffetheossiconesoffemalesandyoungarethinanddisplaytuftsofhairontopwhereasthoseofadultmalesendinknobsandtendtobebaldontopalsoamedianlumpwhichismoreprominentinmalesemergesatthefrontoftheskullmalesdevelopcalciumdepositsthatformbumpsontheirskullsastheyagemultiplesinuseslightenagiraffesskullhoweverasmalesagetheirskullsbecomeheavierandmoreclublikehelpingthembecomemoredominantincombattheoccipitalcondylesoftheskullallowtheanimaltotiltitsheadstraightupandgrabfoodonthebranchesabovewiththetonguelocatedonbothsidesoftheheadthegiraffeseyesgiveitgoodeyesightandawidefieldofvisionfromitsgreatheighttheeyeislargerthaninotherungulateswithagreaterretinalsurfaceareagiraffespossiblyseeincolourandtheirsensesofhearingandsmellaresharptheearsaremovableandthenostrilsareslitshapedwhichmaybeanadaptationagainstblowingsandthegiraffesprehensiletongueisaboutcminlongitisblackperhapstoprotectagainstsunburnandisusefulforgraspingfoliageanddelicatelyremovingleavesfrombranchestheupperlipisprehensileandusefulwhenforagingandiscoveredinhairtoprotectagainstthornspapillaecoverthetongueandtheinsideofthemouththeupperjawhasahardpalateandlacksfrontteeththemolarsandpremolarshavealowcrownedbroadsurfacewithanalmostsquarecrosssectionneckthegiraffehasanextremelyelongatedneckwhichcanbeuptomftinlengthalongtheneckisamanemadeofshorterecthairsthenecktypicallyrestsatanangleofdegreesthoughjuvenileshavestraighternecksandrestatdegreesthelongneckresultsfromadisproportionatelengtheningofthecervicalvertebraenotfromtheadditionofmorevertebraeeachcervicalvertebraisovercminlongtheycomprisepercentofthelengthofthegiraffesvertebralcolumncomparedwiththepercenttypicalofsimilarlargeungulatesincludingthegiraffesclosestlivingrelativetheokapithiselongationlargelytakesplaceafterbirthperhapsbecausegiraffemotherswouldhaveadifficulttimegivingbirthtoyoungwiththesameneckproportionsasadultsthegiraffesheadandneckareheldupbylargemusclesandastrengthenednuchalligamentwhichareanchoredbylongdorsalspinesontheanteriorthoracicvertebraegivingtheanimalahumpthegiraffesneckvertebraehaveballandsocketjointsthepointofarticulationbetweenthecervicalandthoracicvertebraeofgiraffesisshiftedtoliebetweenthefirstandsecondthoracicvertebraetandtunlikemostotherruminantswherethearticulationisbetweentheseventhcervicalvertebracandtthisallowsctocontributedirectlytoincreasednecklengthandhasgivenrisetothesuggestionthattisactuallycandthatgiraffeshaveaddedanextracervicalvertebrahoweverthispropositionisnotgenerallyacceptedasthasothermorphologicalfeaturessuchasanarticulatingribdeemeddiagnosticofthoracicvertebraeandbecauseexceptionstothemammalianlimitofsevencervicalvertebraearegenerallycharacterisedbyincreasedneurologicalanomaliesandmaladiesthereareseveralhypothesesregardingtheevolutionaryoriginandmaintenanceofelongationingiraffeneckscharlesdarwinoriginallysuggestedthecompetingbrowsershypothesiswhichhasbeenchallengedonlyrecentlyitsuggeststhatcompetitivepressurefromsmallerbrowserslikekudusteenbokandimpalaencouragedtheelongationoftheneckasitenabledgiraffestoreachfoodthatcompetitorscouldnotthisadvantageisrealasgiraffescananddofeeduptomfthighwhileevenquitelargecompetitorssuchaskuducanfeeduptoonlyaboutmftinhighthereisalsoresearchsuggestingthatbrowsingcompetitionisintenseatlowerlevelsandgiraffesfeedmoreefficientlygainingmoreleafbiomasswitheachmouthfulhighinthecanopyhoweverscientistsdisagreeaboutjusthowmuchtimegiraffesspendfeedingatlevelsbeyondthereachofotherbrowsersandastudyfoundthatadultgiraffeswithlongernecksactuallysufferedhighermortalityratesunderdroughtconditionsthantheirshorterneckedcounterpartsthisstudysuggeststhatmaintainingalongerneckrequiresmorenutrientswhichputslongerneckedgiraffesatriskduringafoodshortageanothertheorythesexualselectionhypothesisproposesthelongnecksevolvedasasecondarysexualcharacteristicgivingmalesanadvantageinneckingcontestsseebelowtoestablishdominanceandobtainaccesstosexuallyreceptivefemalesinsupportofthistheorynecksarelongerandheavierformalesthanfemalesofthesameageandmalesdonotemployotherformsofcombathoweveroneobjectionisitfailstoexplainwhyfemalegiraffesalsohavelongnecksithasalsobeenproposedthattheneckservestogivetheanimalgreatervigilancelegslocomotionandpostureagiraffesfrontandbacklegsareaboutthesamelengththeradiusandulnaofthefrontlegsarearticulatedbythecarpuswhichwhilestructurallyequivalenttothehumanwristfunctionsasakneeitappearsthatasuspensoryligamentallowsthelankylegstosupporttheanimalsgreatweightthehoovesoflargemalegiraffesreachadiameterofcmcminintherearofeachhoofislowandthefetlockisclosetothegroundallowingthefoottoprovideadditionalsupportfortheanimalsweightgiraffeslackdewclawsandinterdigitalglandsthegiraffespelvisthoughrelativelyshorthasaniliumthatisoutspreadattheupperendsagiraffehasonlytwogaitswalkingandgallopingwalkingisdonebymovingthelegsononesideofthebodythendoingthesameontheothersidewhengallopingthehindlegsmovearoundthefrontlegsbeforethelattermoveforwardandthetailwillcurluptheanimalreliesontheforwardandbackwardmotionsofitsheadandnecktomaintainbalanceandthecountermomentumwhilegallopingthegiraffecanreachasprintspeedofuptokmhmphandcansustainkmhmphforseveralkilometresgiraffeswouldprobablynotbecompetentswimmersastheirlonglegswouldbehighlycumbersomeinthewateralthoughtheycouldpossiblyfloatwhenswimmingthethoraxwouldbeweigheddownbythefrontlegsmakingitdifficultfortheanimaltomoveitsneckandlegsinharmonyorkeepitsheadabovethewaterssurfaceagirafferestsbylyingwithitsbodyontopofitsfoldedlegstoliedowntheanimalkneelsonitsfrontlegsandthenlowerstherestofitsbodytogetbackupitfirstgetsonitsfrontkneesandshiftshindquartersontoitsbackfeetitthenmovesfromkneelingtostandingonitsfrontlegsandpullstherestofitsbodyupwardsswingingitsheadforbalanceifthegiraffewantstobenddowntodrinkiteitherspreadsitsfrontlegsorbendsitskneesstudiesincaptivityfoundthegiraffesleepsintermittentlyaroundhoursperdaymostlyatnightitusuallysleepslyingdownhoweverstandingsleepshavebeenrecordedparticularlyinolderindividualsintermittentshortdeepsleepphaseswhilelyingarecharacterisedbythegiraffebendingitsneckbackwardsandrestingitsheadonthehiporthighapositionbelievedtoindicateparadoxicalsleepinternalsystemsinmammalstheleftrecurrentlaryngealnerveislongerthantherightinthegiraffeitisovercminlongerthesenervesarelongerinthegiraffethaninanyotherlivinganimaltheleftnerveisovermftinlongeachnervecellinthispathbeginsinthebrainstemandpassesdowntheneckalongthevagusnervethenbranchesoffintotherecurrentlaryngealnervewhichpassesbackupthenecktothelarynxthusthesenervecellshavealengthofnearlymftinthelargestgiraffesdespiteitslongneckandlargeskullthebrainofthegiraffeistypicalforanungulateevaporativeheatlossinthenasalpassageskeepthegiraffesbraincooltheshapeoftheskeletongivesthegiraffeasmalllungvolumerelativetoitsmassitslongneckgivesitalargeamountofdeadspaceinspiteofitsnarrowwindpipethegiraffealsohasanincreasedleveloftidalvolumesotheratioofdeadspacetotidalvolumeissimilartoothermammalstheanimalcanstillsupplyenoughoxygentoitstissuesanditcanincreaseitsrespiratoryrateandoxygendiffusionwhenrunningthecirculatorysystemofthegiraffehasseveraladaptationsforitsgreatheightitsheartwhichcanweighmorethankglbandmeasuresaboutcmftlongmustgenerateapproximatelydoublethebloodpressurerequiredforahumantomaintainbloodflowtothebrainassuchthewalloftheheartcanbeasthickascmingiraffeshaveunusuallyhighheartratesfortheirsizeatbeatsperminutewhentheanimallowersitsheadthebloodrushesdownfairlyunopposedandaretemirabileintheupperneckwithitslargecrosssectionalareapreventsexcessbloodflowtothebrainwhenitraisesagainthebloodvesselsconstrictanddirectbloodintothebrainsotheanimaldoesnotfaintthejugularveinscontainseveralmostcommonlysevenvalvestopreventbloodflowingbackintotheheadfromtheinferiorvenacavaandrightatriumwhiletheheadisloweredconverselythebloodvesselsinthelowerlegsareundergreatpressurebecauseoftheweightoffluidpressingdownonthemtosolvethisproblemtheskinofthelowerlegsisthickandtightpreventingtoomuchbloodfrompouringintothemgiraffeshaveoesophagealmusclesthatareunusuallystrongtoallowregurgitationoffoodfromthestomachuptheneckandintothemouthforruminationtheyhavefourchamberedstomachsasinallruminantsthefirstchamberhasadaptedtotheirspecializeddiettheintestinesofanadultgiraffemeasuremorethanmftinlengthandhavearelativelysmallratioofsmalltolargeintestinetheliverofthegiraffeissmallandcompactagallbladderisgenerallypresentduringfetallifebutitmaydisappearbeforebirthbehaviourandecologyhabitatandfeedinggiraffesusuallyinhabitsavannahsandopenwoodlandstheypreferacacieaecommiphoracombretumandopenterminaliawoodlandsoverdenserenvironmentslikebrachystegiawoodlandstheangolangiraffecanbefoundindesertenvironmentsgiraffesbrowseonthetwigsoftreespreferringthoseofthesubfamilyacacieaeandthegeneracommiphoraandterminaliawhichareimportantsourcesofcalciumandproteintosustainthegiraffesgrowthratetheyalsofeedonshrubsgrassandfruitagiraffeeatsaroundkglboffoliagedailywhenstressedgiraffesmaychewthebarkoffbranchesgiraffesarealsorecordedtochewoldbonesduringthewetseasonfoodisabundantandgiraffesaremorespreadoutwhileduringthedryseasontheygatheraroundtheremainingevergreentreesandbushesmotherstendtofeedinopenareaspresumablytomakeiteasiertodetectpredatorsalthoughthismayreducetheirfeedingefficiencyasaruminantthegiraffefirstchewsitsfoodthenswallowsitforprocessingandthenvisiblypassesthehalfdigestedcuduptheneckandbackintothemouthtochewagainthegirafferequireslessfoodthanmanyotherherbivoresbecausethefoliageiteatshasmoreconcentratednutrientsandithasamoreefficientdigestivesystemtheanimalsfaecescomeintheformofsmallpelletswhenithasaccesstowateragiraffedrinksatintervalsnolongerthanthreedaysgiraffeshaveagreateffectonthetreesthattheyfeedondelayingthegrowthofyoungtreesforsomeyearsandgivingwaistlinestotootalltreesfeedingisatitshighestduringthefirstandlasthoursofdaytimebetweenthesehoursgiraffesmostlystandandruminateruminationisthedominantactivityduringthenightwhenitismostlydonelyingdownsociallifegiraffesareusuallyfoundingroupsthatvaryinsizeandcompositionaccordingtoecologicalanthropogenictemporalandsocialfactorstraditionallythecompositionofthesegroupshadbeendescribedasopenandeverchangingforresearchpurposesagrouphasbeendefinedasacollectionofindividualsthatarelessthanakilometreapartandmovinginthesamegeneraldirectionmorerecentstudieshavefoundthatgiraffeshavelongtermsocialassociationsandmayformgroupsorpairsbasedonkinshipsexorotherfactorsandthesegroupsregularlyassociatewithothergroupsinlargercommunitiesorsubcommunitieswithinafissionfusionsocietyproximitytohumanscandisruptsocialarrangementsmasaigiraffesoftanzanialiveindistinctsocialsubpopulationsthatoverlapspatiallybuthavedifferentreproductiveratesandcalfsurvivalratesthenumberofgiraffesinagroupcanrangefromoneuptoindividualsgiraffegroupstendtobesexsegregatedalthoughmixedsexgroupsmadeofadultfemalesandyoungmalesalsooccurfemalegroupsmaybematrilineallyrelatedgenerallyfemalesaremoreselectivethanmalesinwhotheyassociatewithregardingindividualsofthesamesexparticularlystablegiraffegroupsarethosemadeofmothersandtheiryoungwhichcanlastweeksormonthsyoungmalesalsoformgroupsandwillengageinplayfightshoweverastheygetoldermalesbecomemoresolitarybutmayalsoassociateinpairsorwithfemalegroupsgiraffesarenotterritorialbuttheyhavehomerangesthatvaryaccordingtorainfallandproximitytohumansettlementsmalegiraffesoccasionallywanderfarfromareasthattheynormallyfrequentearlybiologistssuggestedgiraffesweremuteandunabletoproduceairflowofsufficientvelocitytovibratetheirvocalfoldstothecontrarytheyhavebeenrecordedtocommunicateusingsnortssneezescoughssnoreshissesburstsmoansgruntsgrowlsandflutelikesoundsduringcourtshipmalesemitloudcoughsfemalescalltheiryoungbybellowingcalveswillemitsnortsbleatsmooingandmewingsoundssnortingandhissinginadultsisassociatedwithvigilanceduringnighttimegiraffesappeartohumtoeachotherabovetheinfrasoundrangethepurposeisuncleardominantmalesdisplaytoothermaleswithanerectpostureholdingthechinandheadhighwhilewalkingstifflyandapproachingthemlaterallythelessdominantshowsubmissivenessbylowingtheheadandearswiththechinmovedinandthenjumpandfleereproductionandparentalcarereproductioningiraffesisbroadlypolygamousafewoldermalesmatewiththefertilefemalesfemalescanreproducethroughouttheyearandexperienceoestruscyclingapproximatelyeverydaysfemalegiraffesinoestrousaredispersedoverspaceandtimesoreproductiveadultmalesadoptastrategyofroamingamongfemalegroupstoseekmatingopportunitieswithperiodichormoneinducedruttingbehaviourapproximatelyeverytwoweeksmalespreferyoungadultfemalesoverjuvenilesandolderadultsmalegiraffesassessfemalefertilitybytastingthefemalesurinetodetectoestrusinamultistepprocessknownastheflehmenresponseonceanoestrousfemaleisdetectedthemalewillattempttocourtherwhencourtingdominantmaleswillkeepsubordinateonesatbayacourtingmalemaylickafemalestailresthisheadandneckonherbodyornudgeherwithhisossiconesduringcopulationthemalestandsonhishindlegswithhisheadheldupandhisfrontlegsrestingonthefemalessidesgiraffegestationlastsdaysafterwhichasinglecalfisnormallybornalthoughtwinsoccuronrareoccasionsthemothergivesbirthstandingupthecalfemergesheadandfrontlegsfirsthavingbrokenthroughthefetalmembranesandfallstothegroundseveringtheumbilicalcordanewborngiraffeismfttallwithinafewhoursofbirththecalfcanrunaroundandisalmostindistinguishablefromaoneweekoldhoweverforthefirstonetothreeweeksitspendsmostofitstimehidingitscoatpatternprovidingcamouflagetheossiconeswhichhavelainflatwhileitwasinthewombbecomeerectwithinafewdaysmotherswithcalveswillgatherinnurseryherdsmovingorbrowsingtogethermothersinsuchagroupmaysometimesleavetheircalveswithonefemalewhiletheyforageanddrinkelsewherethisisknownasacalvingpooladultmalesplayalmostnoroleinraisingtheyoungalthoughtheyappeartohavefriendlyinteractionscalvesareatriskofpredationandamothergiraffewillstandoverhercalfandkickatanapproachingpredatorfemaleswatchingcalvingpoolswillonlyalerttheirownyoungiftheydetectadisturbancealthoughtheotherswilltakenoticeandfollowcalvesmaybeweanedatsixtoeightmonthsoldbutcanremainwiththeirmothersforuptomonthsfemalesbecomesexuallymaturewhentheyarefouryearsoldwhilemalesbecomematureatfourorfiveyearsspermatogenesisinmalegiraffesbeginsatthreetofouryearsofagemalesmustwaituntiltheyareatleastsevenyearsoldtogaintheopportunitytomateneckingmalegiraffesusetheirnecksasweaponsincombatabehaviourknownasneckingneckingisusedtoestablishdominanceandmalesthatwinneckingboutshavegreaterreproductivesuccessthisbehaviouroccursatloworhighintensityinlowintensityneckingthecombatantsrubandleanagainsteachotherthemalethatcanholditselfmoreerectwinstheboutinhighintensityneckingthecombatantswillspreadtheirfrontlegsandswingtheirnecksateachotherattemptingtolandblowswiththeirossiconesthecontestantswilltrytododgeeachothersblowsandthengetreadytocounterthepowerofablowdependsontheweightoftheskullandthearcoftheswinganeckingduelcanlastmorethanhalfanhourdependingonhowwellmatchedthecombatantsarealthoughmostfightsdonotleadtoseriousinjurytherehavebeenrecordsofbrokenjawsbrokennecksandevendeathsafteraduelitiscommonfortwomalegiraffestocaressandcourteachothersuchinteractionsbetweenmaleshavebeenfoundtobemorefrequentthanheterosexualcouplinginonestudyuptopercentofobservedmountingincidentstookplacebetweenmalestheproportionofsamesexactivitiesvariedfromtopercentonlyonepercentofsamesexmountingincidentsoccurredbetweenfemalesmortalityandhealthgiraffeshavehighadultsurvivalprobabilityandanunusuallylonglifespancomparedtootherruminantsuptoyearsbecauseoftheirsizeeyesightandpowerfulkicksadultgiraffesareusuallynotsubjecttopredationalthoughlionsmayregularlypreyonindividualsuptokglbgiraffesarethemostcommonfoodsourceforthebigcatsinkrugernationalparkcomprisingnearlyathirdofthemeatconsumedalthoughonlyasmallportionofthegiraffeswereprobablykilledbypredatorsasamajorityoftheconsumedgiraffesappearedtobescavengedadultfemalesurvivalissignificantlycorrelatedwithgregariousnesstheaveragenumberofotherfemalessheisseenassociatingwithcalvesaremuchmorevulnerablethanadultsandarealsopreyedonbyleopardsspottedhyenasandwilddogsaquartertoahalfofgiraffecalvesreachadulthoodcalfsurvivalvariesaccordingtotheseasonofbirthwithcalvesbornduringthedryseasonhavinghighersurvivalratesthelocalseasonalpresenceoflargeherdsofmigratorywildebeestsandzebrasreducespredationpressureongiraffecalvesandincreasestheirsurvivalprobabilityinturnithasbeensuggestedthatotherungulatesmaybenefitfromassociatingwithgiraffesastheirheightallowsthemtospotpredatorsfromfurtherawayzebraswerefoundtogleaninformationonpredationriskfromgiraffebodylanguageandspendlesstimescanningtheenvironmentwhengiraffesarepresentsomeparasitesfeedongiraffestheyareoftenhostsforticksespeciallyintheareaaroundthegenitalswhichhavethinnerskinthanotherareastickspeciesthatcommonlyfeedongiraffesarethoseofgenerahyalommaamblyommaandrhipicephalusgiraffesmayrelyonredbilledandyellowbilledoxpeckerstocleanthemofticksandalertthemtodangergiraffeshostnumerousspeciesofinternalparasitesandaresusceptibletovariousdiseasestheywerevictimsofthenoweradicatedviralillnessrinderpestgiraffescanalsosufferfromaskindisorderwhichcomesintheformofwrinkleslesionsorrawfissuresasmuchasofgiraffesshowsignsofthediseaseinruahanationalparkbutitdidnotcausemortalityintarangireandislessprevalentinareaswithfertilesoilsrelationshipwithhumansculturalsignificancewithitslankybuildandspottedcoatthegiraffehasbeenasourceoffascinationthroughouthumanhistoryanditsimageiswidespreadincultureithasbeenusedtosymboliseflexibilityfarsightednessfemininityfragilitypassivitygracebeautyandthecontinentofafricaitselfgiraffesweredepictedinartthroughouttheafricancontinentincludingthatofthekiffiansegyptiansandkushitesthekiffianswereresponsibleforalifesizerockengravingoftwogiraffesdatedyearsagothathasbeencalledtheworldslargestrockartpetroglyphhowthegiraffegotitsheighthasbeenthesubjectofvariousafricanfolktalesthetugenpeopleofmodernkenyausedthegiraffetodepicttheirgodmdatheegyptiansgavethegiraffeitsownhieroglyphnamedsrinoldegyptianandmmyinlaterperiodsgiraffeshaveapresenceinmodernwesternculturesalvadordaldepictedthemwithburningmanesinsomeofhissurrealistpaintingsdaliconsideredthegiraffetobeasymbolofmasculinityandaflaminggiraffewasmeanttobeamasculinecosmicapocalypticmonsterseveralchildrensbooksfeaturethegiraffeincludingdavidaufersthegiraffewhowasafraidofheightsgilesandreaesgiraffescantdanceandroalddahlsthegiraffeandthepellyandmegiraffeshaveappearedinanimatedfilmsasminorcharactersindisneysthelionkinganddumboandinmoreprominentrolesinthewildandthemadagascarfilmssophiethegiraffehasbeenapopularteethersinceanotherfamousfictionalgiraffeisthetoysrusmascotgeoffreythegiraffethegiraffehasalsobeenusedforsomescientificexperimentsanddiscoveriesscientistshavelookedatthepropertiesofgiraffeskinwhendevelopingsuitsforastronautsandfighterpilotsbecausethepeopleintheseprofessionsareindangerofpassingoutifbloodrushestotheirlegscomputerscientistshavemodeledthecoatpatternsofseveralsubspeciesusingreactiondiffusionmechanismstheconstellationofcamelopardalisintroducedintheseventeenthcenturydepictsagiraffethetswanapeopleofbotswanatraditionallyseetheconstellationcruxastwogiraffesacruxandmimosaformingamaleandgacruxanddeltacrucisformingthefemalecaptivitytheegyptianskeptgiraffesaspetsandshippedthemaroundthemediterraneanthegiraffewasamongthemanyanimalscollectedanddisplayedbytheromansthefirstoneinromewasbroughtinbyjuliuscaesarinbcandexhibitedtothepublicwiththefallofthewesternromanempirethehousingofgiraffesineuropedeclinedduringthemiddleagesgiraffeswereknowntoeuropeansthroughcontactwiththearabswhoreveredthegiraffeforitspeculiarappearanceindividualcaptivegiraffesweregivencelebritystatusthroughouthistoryinagiraffewasshippedfrommalinditobengalitwasthentakentochinabyexplorerzhengheandplacedinamingdynastyzootheanimalwasasourceoffascinationforthechinesepeoplewhoassociateditwiththemythicalqilinthemedicigiraffewasagiraffepresentedtolorenzodemediciinitcausedagreatstironitsarrivalinflorencezarafaanotherfamousgiraffewasbroughtfromegypttoparisintheearlythcenturyasagiftfrommuhammadaliofegypttocharlesxoffranceasensationthegiraffewasthesubjectofnumerousmemorabiliaorgiraffanaliagiraffeshavebecomepopularattractionsinmodernzoosthoughkeepingthemhealthyisdifficultastheyrequirewideareasandhighamountsofbrowseforfoodcaptivegiraffesinnorthamericaandeuropeappeartohaveahighermortalityratethaninthewildcausesofdeathincludepoorhusbandrynutritionandmanagementdecisionsgiraffesinzoosdisplaystereotypicalbehavioursthemostcommonbeingthelickingofnonfooditemszookeepersmayoffervariousactivitiestostimulategiraffesincludingtrainingthemtoacceptfoodfromvisitorsstablesforgiraffesarebuiltparticularlyhightoaccommodatetheirheightexploitationgiraffeswereprobablycommontargetsforhuntersthroughoutafricadifferentpartsoftheirbodieswereusedfordifferentpurposestheirmeatwasusedforfoodthetailhairsservedasflyswattersbraceletsnecklacesandthreadshieldssandalsanddrumsweremadeusingtheskinandthestringsofmusicalinstrumentswerefromthetendonsthesmokefromburninggiraffeskinswasusedbythemedicinemenofbugandatotreatnosebleedsthehumrpeopleofkordofanconsumethedrinkummnyolokhwhichispreparedfromtheliverandbonemarrowofgiraffesrichardrudgleyhypothesisedthatummnyolokhmightcontaindmtthedrinkissaidtocausehallucinationsofgiraffesbelievedtobethegiraffesghostsbythehumrconservationstatusingiraffeswereassessedasvulnerablefromaconservationperspectivebytheiucninitwasestimatedthereweregiraffesinthewildthisdeclinedtooverinestimatesasofindicatethereareapproximatelymembersofgiraffainthewildthemasaiandreticulatedsubspeciesareendangeredandtherothschildsubspeciesisnearthreatenedthenubiansubspeciesiscriticallyendangeredtheprimarycausesforgiraffepopulationdeclinesarehabitatlossanddirectkillingforbushmeatmarketsgiraffeshavebeenextirpatedfrommuchoftheirhistoricrangeincludingeritreaguineamauritaniaandsenegaltheymayalsohavedisappearedfromangolamaliandnigeriabuthavebeenintroducedtorwandaandeswatiniasofthereweremorethanincaptivityatspeciesregisteredzooshabitatdestructionhashurtthegiraffeinthesaheltheneedforfirewoodandgrazingroomforlivestockhasledtodeforestationnormallygiraffescancoexistwithlivestocksincetheydonotdirectlycompetewiththeminseveredroughtsinnorthernkenyaledtoincreasedtensionsoverlandandthekillingofwildlifebyherderswithgiraffepopulationsbeingparticularlyhitprotectedareaslikenationalparksprovideimportanthabitatandantipoachingprotectiontogiraffepopulationscommunitybasedconservationeffortsoutsidenationalparksarealsoeffectiveatprotectinggiraffesandtheirhabitatsprivategamereserveshavecontributedtothepreservationofgiraffepopulationsinsouthernafricathegiraffeisaprotectedspeciesinmostofitsrangeitisthenationalanimaloftanzaniaandisprotectedbylawandunauthorisedkillingcanresultinimprisonmenttheunbackedconventionofmigratoryspeciesselectedgiraffesforprotectioniningiraffeswerelistedunderappendixiioftheconventiononinternationaltradeinendangeredspeciesciteswhichmeansinternationaltradeincludinginpartsderivativesisregulatedtranslocationsaresometimesusedtoaugmentorreestablishdiminishedorextirpatedpopulationsbuttheseactivitiesareriskyanddifficulttoundertakeusingthebestpracticesofextensivepreandposttranslocationstudiesandensuringaviablefoundingpopulationaerialsurveyisthemostcommonmethodofmonitoringgiraffepopulationtrendsinthevastroadlesstractsofafricanlandscapesbutaerialmethodsareknowntoundercountgiraffesgroundbasedsurveymethodsaremoreaccurateandcanbeusedinconjunctionwithaerialsurveystomakeaccurateestimatesofpopulationsizesandtrendsthegiraffeconservationfoundationhasbeencriticizedforallegedmistreatmentofgiraffesandgiraffescientistsseealsofaunaofafricagiraffecentregiraffemanorhotelinnairobiwithgiraffesreferencesexternallinksgiraffeconservationfoundation\n"
          ]
        }
      ]
    },
    {
      "cell_type": "markdown",
      "source": [
        "## Instead of directly using characters as the features, to understand a text better, we may consider group of tokens i.e. ngrams as features. \n",
        "## for this example let us consider that each character is one word, and let us see how n-grams work."
      ],
      "metadata": {
        "id": "XAJNs7PD_cVM"
      }
    },
    {
      "cell_type": "markdown",
      "source": [
        "\n",
        "## nltk library provides many tools for text processing, please explore them."
      ],
      "metadata": {
        "id": "E1pXE4sK_0kl"
      }
    },
    {
      "cell_type": "markdown",
      "metadata": {
        "id": "jXFTWwd0rk63"
      },
      "source": [
        "Now let us calculate the frequency of the character n-grams. N-grams are groups of characters of size n. A unigram is a single character and a bigram is a group of two characters and so on. \n",
        "\n",
        "Let us count the frequency of each character in a text and plot it in a histogram."
      ]
    },
    {
      "cell_type": "code",
      "metadata": {
        "id": "g3Lz3YUjN0L5"
      },
      "source": [
        "# convert a tuple of characters to a string\n",
        "def tuple2string(tup):\n",
        "  st = ''\n",
        "  for ii in tup:\n",
        "    st = st + ii\n",
        "  return st\n",
        "\n",
        "# convert a tuple of tuples to a list of strings\n",
        "def key2string(keys):\n",
        "  return [tuple2string(i) for i in keys]\n",
        "\n",
        "# plot the histogram\n",
        "def plothistogram(ngram):\n",
        "  keys = key2string(ngram.keys()) \n",
        "  values = list(ngram.values())\n",
        "  \n",
        "  # sort the keys in alphabetic order\n",
        "  combined = zip(keys, values)\n",
        "  zipped_sorted = sorted(combined, key=lambda x: x[0])\n",
        "  keys, values = map(list, zip(*zipped_sorted))\n",
        "  plt.bar(keys, values)"
      ],
      "execution_count": 8,
      "outputs": []
    },
    {
      "cell_type": "markdown",
      "metadata": {
        "id": "zHD62zbZcwAB"
      },
      "source": [
        "Let us compare the histograms of English pages and French pages. Can you spot a difference?"
      ]
    },
    {
      "cell_type": "code",
      "metadata": {
        "id": "LKcGRgH6b0KP",
        "colab": {
          "base_uri": "https://localhost:8080/",
          "height": 545
        },
        "outputId": "44e6e5cf-3335-4ae0-be3d-bc72b0580387"
      },
      "source": [
        "## we passed ngrams 'n' as 1 to get unigrams. Unigram is nothing but single token (in this case character).\n",
        "\n",
        "unigram_eng1 = Counter(ngrams(eng1,1))\n",
        "plothistogram(unigram_eng1)\n",
        "plt.title('English 1')\n",
        "plt.show()\n",
        "unigram_eng2 = Counter(ngrams(eng2,1))\n",
        "plothistogram(unigram_eng2)\n",
        "plt.title('English 2')\n",
        "plt.show()"
      ],
      "execution_count": 9,
      "outputs": [
        {
          "output_type": "display_data",
          "data": {
            "text/plain": [
              "<Figure size 432x288 with 1 Axes>"
            ],
            "image/png": "[encoded data removed]"
          },
          "metadata": {
            "needs_background": "light"
          }
        },
        {
          "output_type": "display_data",
          "data": {
            "text/plain": [
              "<Figure size 432x288 with 1 Axes>"
            ],
            "image/png": "[encoded data removed]"
          },
          "metadata": {
            "needs_background": "light"
          }
        }
      ]
    },
    {
      "cell_type": "code",
      "metadata": {
        "id": "fDM_UhCL2QLt",
        "colab": {
          "base_uri": "https://localhost:8080/",
          "height": 545
        },
        "outputId": "128f16c9-b387-4833-e7bd-e88a5b166845"
      },
      "source": [
        "unigram_fr1 = Counter(ngrams(fr1,1))\n",
        "plothistogram(unigram_eng1)\n",
        "plt.title('French 1')\n",
        "plt.show()\n",
        "unigram_fr2 = Counter(ngrams(fr2,1))\n",
        "plothistogram(unigram_fr2)\n",
        "plt.title('French 2')\n",
        "plt.show()"
      ],
      "execution_count": 10,
      "outputs": [
        {
          "output_type": "display_data",
          "data": {
            "text/plain": [
              "<Figure size 432x288 with 1 Axes>"
            ],
            "image/png": "[encoded data removed]"
          },
          "metadata": {
            "needs_background": "light"
          }
        },
        {
          "output_type": "display_data",
          "data": {
            "text/plain": [
              "<Figure size 432x288 with 1 Axes>"
            ],
            "image/png": "[encoded data removed]"
          },
          "metadata": {
            "needs_background": "light"
          }
        }
      ]
    },
    {
      "cell_type": "markdown",
      "source": [
        "## A good feature is one that helps in easy prediction and classification. \n",
        "## for ex : if you wish to differentiate between grapes and apples, size can be one of the useful features."
      ],
      "metadata": {
        "id": "VUEys9KoA0L0"
      }
    },
    {
      "cell_type": "markdown",
      "metadata": {
        "id": "kxgrdZLKdkAB"
      },
      "source": [
        "We can see that the unigrams for French and English are very similar. So this is not a good feature if we want to distinguish between English and French. Let us look at bigrams."
      ]
    },
    {
      "cell_type": "code",
      "metadata": {
        "id": "OmRCxItx2T9W",
        "colab": {
          "base_uri": "https://localhost:8080/",
          "height": 1000
        },
        "outputId": "eee31220-e8e3-45de-86ae-796d8305c3cb"
      },
      "source": [
        "## Now instead of unigram, we will use bigrams as features, and see how useful bigrams are as features.\n",
        "\n",
        "bigram_eng1 = Counter(ngrams(eng1,2)) # bigrams\n",
        "plothistogram(bigram_eng1)\n",
        "plt.title('English 1')\n",
        "plt.show()\n",
        "\n",
        "bigram_eng2 = Counter(ngrams(eng2,2))\n",
        "plothistogram(bigram_eng2)\n",
        "plt.title('English 2')\n",
        "plt.show()\n",
        "\n",
        "bigram_fr1 = Counter(ngrams(fr1,2))\n",
        "plothistogram(bigram_eng1)\n",
        "plt.title('French 1')\n",
        "plt.show()\n",
        "\n",
        "bigram_fr2 = Counter(ngrams(fr2,2))\n",
        "plothistogram(bigram_fr2)\n",
        "plt.title('French 2')\n",
        "plt.show()"
      ],
      "execution_count": 11,
      "outputs": [
        {
          "output_type": "display_data",
          "data": {
            "text/plain": [
              "<Figure size 432x288 with 1 Axes>"
            ],
            "image/png": "[encoded data removed]"
          },
          "metadata": {
            "needs_background": "light"
          }
        },
        {
          "output_type": "display_data",
          "data": {
            "text/plain": [
              "<Figure size 432x288 with 1 Axes>"
            ],
            "image/png": "[encoded data removed]"
          },
          "metadata": {
            "needs_background": "light"
          }
        },
        {
          "output_type": "display_data",
          "data": {
            "text/plain": [
              "<Figure size 432x288 with 1 Axes>"
            ],
            "image/png": "[encoded data removed]"
          },
          "metadata": {
            "needs_background": "light"
          }
        },
        {
          "output_type": "display_data",
          "data": {
            "text/plain": [
              "<Figure size 432x288 with 1 Axes>"
            ],
            "image/png": "[encoded data removed]"
          },
          "metadata": {
            "needs_background": "light"
          }
        }
      ]
    },
    {
      "cell_type": "markdown",
      "metadata": {
        "id": "O-egsHMIg5Rp"
      },
      "source": [
        "Another way to visualize bigrams is to use a 2-dimensional graph."
      ]
    },
    {
      "cell_type": "code",
      "source": [
        "## lets have a lot at bigrams.\n",
        "\n",
        "bigram_eng1\n"
      ],
      "metadata": {
        "colab": {
          "base_uri": "https://localhost:8080/"
        },
        "id": "7LYSVe02dG59",
        "outputId": "b1f6fde0-e398-4881-c443-c17a6b52002f"
      },
      "execution_count": 12,
      "outputs": [
        {
          "output_type": "execute_result",
          "data": {
            "text/plain": [
              "Counter({('a', 'a'): 21,\n",
              "         ('a', 'b'): 56,\n",
              "         ('a', 'c'): 119,\n",
              "         ('a', 'd'): 100,\n",
              "         ('a', 'e'): 32,\n",
              "         ('a', 'f'): 262,\n",
              "         ('a', 'g'): 76,\n",
              "         ('a', 'h'): 16,\n",
              "         ('a', 'i'): 86,\n",
              "         ('a', 'j'): 2,\n",
              "         ('a', 'k'): 9,\n",
              "         ('a', 'l'): 419,\n",
              "         ('a', 'm'): 77,\n",
              "         ('a', 'n'): 549,\n",
              "         ('a', 'o'): 7,\n",
              "         ('a', 'p'): 77,\n",
              "         ('a', 'q'): 1,\n",
              "         ('a', 'r'): 313,\n",
              "         ('a', 's'): 233,\n",
              "         ('a', 't'): 350,\n",
              "         ('a', 'u'): 26,\n",
              "         ('a', 'v'): 79,\n",
              "         ('a', 'w'): 14,\n",
              "         ('a', 'x'): 6,\n",
              "         ('a', 'y'): 43,\n",
              "         ('a', 'z'): 1,\n",
              "         ('b', 'a'): 41,\n",
              "         ('b', 'b'): 1,\n",
              "         ('b', 'c'): 3,\n",
              "         ('b', 'd'): 1,\n",
              "         ('b', 'e'): 125,\n",
              "         ('b', 'f'): 4,\n",
              "         ('b', 'g'): 1,\n",
              "         ('b', 'i'): 41,\n",
              "         ('b', 'j'): 4,\n",
              "         ('b', 'l'): 59,\n",
              "         ('b', 'm'): 1,\n",
              "         ('b', 'n'): 1,\n",
              "         ('b', 'o'): 42,\n",
              "         ('b', 'p'): 1,\n",
              "         ('b', 'r'): 53,\n",
              "         ('b', 's'): 16,\n",
              "         ('b', 't'): 1,\n",
              "         ('b', 'u'): 28,\n",
              "         ('b', 'y'): 28,\n",
              "         ('c', 'a'): 171,\n",
              "         ('c', 'c'): 20,\n",
              "         ('c', 'e'): 105,\n",
              "         ('c', 'g'): 1,\n",
              "         ('c', 'h'): 126,\n",
              "         ('c', 'i'): 108,\n",
              "         ('c', 'k'): 81,\n",
              "         ('c', 'l'): 35,\n",
              "         ('c', 'm'): 8,\n",
              "         ('c', 'n'): 3,\n",
              "         ('c', 'o'): 171,\n",
              "         ('c', 'p'): 1,\n",
              "         ('c', 'r'): 26,\n",
              "         ('c', 's'): 5,\n",
              "         ('c', 't'): 90,\n",
              "         ('c', 'u'): 37,\n",
              "         ('c', 'v'): 4,\n",
              "         ('c', 'w'): 2,\n",
              "         ('c', 'y'): 2,\n",
              "         ('d', 'a'): 142,\n",
              "         ('d', 'b'): 36,\n",
              "         ('d', 'c'): 25,\n",
              "         ('d', 'd'): 28,\n",
              "         ('d', 'e'): 137,\n",
              "         ('d', 'f'): 39,\n",
              "         ('d', 'g'): 25,\n",
              "         ('d', 'h'): 20,\n",
              "         ('d', 'i'): 166,\n",
              "         ('d', 'k'): 5,\n",
              "         ('d', 'l'): 30,\n",
              "         ('d', 'm'): 39,\n",
              "         ('d', 'n'): 17,\n",
              "         ('d', 'o'): 70,\n",
              "         ('d', 'p'): 20,\n",
              "         ('d', 'q'): 1,\n",
              "         ('d', 'r'): 33,\n",
              "         ('d', 's'): 78,\n",
              "         ('d', 't'): 120,\n",
              "         ('d', 'u'): 68,\n",
              "         ('d', 'v'): 9,\n",
              "         ('d', 'w'): 17,\n",
              "         ('d', 'y'): 24,\n",
              "         ('d', 'z'): 4,\n",
              "         ('e', 'a'): 352,\n",
              "         ('e', 'b'): 72,\n",
              "         ('e', 'c'): 246,\n",
              "         ('e', 'd'): 286,\n",
              "         ('e', 'e'): 140,\n",
              "         ('e', 'f'): 89,\n",
              "         ('e', 'g'): 168,\n",
              "         ('e', 'h'): 53,\n",
              "         ('e', 'i'): 151,\n",
              "         ('e', 'j'): 1,\n",
              "         ('e', 'k'): 14,\n",
              "         ('e', 'l'): 157,\n",
              "         ('e', 'm'): 147,\n",
              "         ('e', 'n'): 346,\n",
              "         ('e', 'o'): 81,\n",
              "         ('e', 'p'): 83,\n",
              "         ('e', 'q'): 8,\n",
              "         ('e', 'r'): 493,\n",
              "         ('e', 's'): 659,\n",
              "         ('e', 't'): 173,\n",
              "         ('e', 'u'): 28,\n",
              "         ('e', 'v'): 60,\n",
              "         ('e', 'w'): 72,\n",
              "         ('e', 'x'): 47,\n",
              "         ('e', 'y'): 46,\n",
              "         ('e', 'z'): 2,\n",
              "         ('f', 'a'): 65,\n",
              "         ('f', 'b'): 9,\n",
              "         ('f', 'c'): 5,\n",
              "         ('f', 'd'): 7,\n",
              "         ('f', 'e'): 292,\n",
              "         ('f', 'f'): 265,\n",
              "         ('f', 'g'): 20,\n",
              "         ('f', 'h'): 5,\n",
              "         ('f', 'i'): 63,\n",
              "         ('f', 'k'): 1,\n",
              "         ('f', 'l'): 23,\n",
              "         ('f', 'm'): 12,\n",
              "         ('f', 'n'): 5,\n",
              "         ('f', 'o'): 130,\n",
              "         ('f', 'p'): 3,\n",
              "         ('f', 'r'): 85,\n",
              "         ('f', 's'): 13,\n",
              "         ('f', 't'): 77,\n",
              "         ('f', 'u'): 18,\n",
              "         ('f', 'v'): 3,\n",
              "         ('f', 'w'): 3,\n",
              "         ('f', 'y'): 1,\n",
              "         ('g', 'a'): 69,\n",
              "         ('g', 'b'): 7,\n",
              "         ('g', 'c'): 13,\n",
              "         ('g', 'd'): 10,\n",
              "         ('g', 'e'): 156,\n",
              "         ('g', 'f'): 6,\n",
              "         ('g', 'g'): 27,\n",
              "         ('g', 'h'): 90,\n",
              "         ('g', 'i'): 285,\n",
              "         ('g', 'j'): 2,\n",
              "         ('g', 'l'): 20,\n",
              "         ('g', 'm'): 11,\n",
              "         ('g', 'n'): 19,\n",
              "         ('g', 'o'): 23,\n",
              "         ('g', 'p'): 7,\n",
              "         ('g', 'r'): 60,\n",
              "         ('g', 's'): 39,\n",
              "         ('g', 't'): 78,\n",
              "         ('g', 'u'): 25,\n",
              "         ('g', 'v'): 2,\n",
              "         ('g', 'w'): 8,\n",
              "         ('g', 'y'): 11,\n",
              "         ('h', 'a'): 242,\n",
              "         ('h', 'b'): 7,\n",
              "         ('h', 'c'): 15,\n",
              "         ('h', 'd'): 3,\n",
              "         ('h', 'e'): 707,\n",
              "         ('h', 'f'): 8,\n",
              "         ('h', 'g'): 7,\n",
              "         ('h', 'h'): 11,\n",
              "         ('h', 'i'): 147,\n",
              "         ('h', 'j'): 1,\n",
              "         ('h', 'k'): 1,\n",
              "         ('h', 'l'): 10,\n",
              "         ('h', 'm'): 16,\n",
              "         ('h', 'n'): 7,\n",
              "         ('h', 'o'): 112,\n",
              "         ('h', 'p'): 6,\n",
              "         ('h', 'r'): 23,\n",
              "         ('h', 's'): 16,\n",
              "         ('h', 't'): 74,\n",
              "         ('h', 'u'): 16,\n",
              "         ('h', 'v'): 1,\n",
              "         ('h', 'w'): 7,\n",
              "         ('h', 'y'): 21,\n",
              "         ('i', 'a'): 77,\n",
              "         ('i', 'b'): 20,\n",
              "         ('i', 'c'): 160,\n",
              "         ('i', 'd'): 43,\n",
              "         ('i', 'e'): 110,\n",
              "         ('i', 'f'): 34,\n",
              "         ('i', 'g'): 82,\n",
              "         ('i', 'i'): 4,\n",
              "         ('i', 'k'): 16,\n",
              "         ('i', 'l'): 116,\n",
              "         ('i', 'm'): 70,\n",
              "         ('i', 'n'): 599,\n",
              "         ('i', 'o'): 173,\n",
              "         ('i', 'p'): 18,\n",
              "         ('i', 'q'): 1,\n",
              "         ('i', 'r'): 320,\n",
              "         ('i', 's'): 221,\n",
              "         ('i', 't'): 269,\n",
              "         ('i', 'u'): 15,\n",
              "         ('i', 'v'): 93,\n",
              "         ('i', 'w'): 1,\n",
              "         ('i', 'x'): 5,\n",
              "         ('i', 'z'): 10,\n",
              "         ('j', 'a'): 4,\n",
              "         ('j', 'e'): 4,\n",
              "         ('j', 'o'): 2,\n",
              "         ('j', 'u'): 11,\n",
              "         ('k', 'a'): 31,\n",
              "         ('k', 'b'): 3,\n",
              "         ('k', 'c'): 1,\n",
              "         ('k', 'd'): 2,\n",
              "         ('k', 'e'): 50,\n",
              "         ('k', 'f'): 2,\n",
              "         ('k', 'g'): 6,\n",
              "         ('k', 'h'): 3,\n",
              "         ('k', 'i'): 44,\n",
              "         ('k', 'k'): 1,\n",
              "         ('k', 'l'): 4,\n",
              "         ('k', 'm'): 4,\n",
              "         ('k', 'n'): 14,\n",
              "         ('k', 'o'): 5,\n",
              "         ('k', 'p'): 3,\n",
              "         ('k', 'r'): 3,\n",
              "         ('k', 's'): 27,\n",
              "         ('k', 't'): 6,\n",
              "         ('k', 'u'): 16,\n",
              "         ('k', 'v'): 1,\n",
              "         ('k', 'w'): 4,\n",
              "         ('k', 'y'): 3,\n",
              "         ('l', 'a'): 181,\n",
              "         ('l', 'b'): 11,\n",
              "         ('l', 'c'): 16,\n",
              "         ('l', 'd'): 46,\n",
              "         ('l', 'e'): 262,\n",
              "         ('l', 'f'): 19,\n",
              "         ('l', 'g'): 7,\n",
              "         ('l', 'h'): 5,\n",
              "         ('l', 'i'): 170,\n",
              "         ('l', 'k'): 9,\n",
              "         ('l', 'l'): 141,\n",
              "         ('l', 'm'): 12,\n",
              "         ('l', 'n'): 10,\n",
              "         ('l', 'o'): 154,\n",
              "         ('l', 'p'): 14,\n",
              "         ('l', 'q'): 1,\n",
              "         ('l', 'r'): 7,\n",
              "         ('l', 's'): 77,\n",
              "         ('l', 't'): 70,\n",
              "         ('l', 'u'): 30,\n",
              "         ('l', 'v'): 29,\n",
              "         ('l', 'w'): 6,\n",
              "         ('l', 'y'): 131,\n",
              "         ('m', 'a'): 246,\n",
              "         ('m', 'b'): 31,\n",
              "         ('m', 'c'): 3,\n",
              "         ('m', 'd'): 3,\n",
              "         ('m', 'e'): 143,\n",
              "         ('m', 'f'): 11,\n",
              "         ('m', 'g'): 7,\n",
              "         ('m', 'h'): 3,\n",
              "         ('m', 'i'): 80,\n",
              "         ('m', 'k'): 2,\n",
              "         ('m', 'l'): 4,\n",
              "         ('m', 'm'): 31,\n",
              "         ('m', 'n'): 5,\n",
              "         ('m', 'o'): 143,\n",
              "         ('m', 'p'): 37,\n",
              "         ('m', 'r'): 2,\n",
              "         ('m', 's'): 13,\n",
              "         ('m', 't'): 23,\n",
              "         ('m', 'u'): 24,\n",
              "         ('m', 'v'): 1,\n",
              "         ('m', 'w'): 4,\n",
              "         ('m', 'y'): 14,\n",
              "         ('n', 'a'): 175,\n",
              "         ('n', 'b'): 26,\n",
              "         ('n', 'c'): 104,\n",
              "         ('n', 'd'): 399,\n",
              "         ('n', 'e'): 198,\n",
              "         ('n', 'f'): 31,\n",
              "         ('n', 'g'): 335,\n",
              "         ('n', 'h'): 28,\n",
              "         ('n', 'i'): 115,\n",
              "         ('n', 'j'): 5,\n",
              "         ('n', 'k'): 17,\n",
              "         ('n', 'l'): 36,\n",
              "         ('n', 'm'): 26,\n",
              "         ('n', 'n'): 20,\n",
              "         ('n', 'o'): 101,\n",
              "         ('n', 'p'): 11,\n",
              "         ('n', 'q'): 1,\n",
              "         ('n', 'r'): 23,\n",
              "         ('n', 's'): 151,\n",
              "         ('n', 't'): 316,\n",
              "         ('n', 'u'): 29,\n",
              "         ('n', 'v'): 8,\n",
              "         ('n', 'w'): 13,\n",
              "         ('n', 'x'): 1,\n",
              "         ('n', 'y'): 13,\n",
              "         ('n', 'z'): 6,\n",
              "         ('o', 'a'): 33,\n",
              "         ('o', 'b'): 28,\n",
              "         ('o', 'c'): 56,\n",
              "         ('o', 'd'): 83,\n",
              "         ('o', 'e'): 18,\n",
              "         ('o', 'f'): 199,\n",
              "         ('o', 'g'): 35,\n",
              "         ('o', 'h'): 17,\n",
              "         ('o', 'i'): 15,\n",
              "         ('o', 'k'): 29,\n",
              "         ('o', 'l'): 75,\n",
              "         ('o', 'm'): 162,\n",
              "         ('o', 'n'): 380,\n",
              "         ('o', 'o'): 65,\n",
              "         ('o', 'p'): 80,\n",
              "         ('o', 'r'): 270,\n",
              "         ('o', 's'): 104,\n",
              "         ('o', 't'): 141,\n",
              "         ('o', 'u'): 192,\n",
              "         ('o', 'v'): 36,\n",
              "         ('o', 'w'): 92,\n",
              "         ('o', 'x'): 12,\n",
              "         ('o', 'y'): 4,\n",
              "         ('p', 'a'): 81,\n",
              "         ('p', 'b'): 2,\n",
              "         ('p', 'c'): 2,\n",
              "         ('p', 'e'): 141,\n",
              "         ('p', 'h'): 19,\n",
              "         ('p', 'i'): 44,\n",
              "         ('p', 'l'): 31,\n",
              "         ('p', 'm'): 2,\n",
              "         ('p', 'o'): 91,\n",
              "         ('p', 'p'): 46,\n",
              "         ('p', 'r'): 106,\n",
              "         ('p', 's'): 23,\n",
              "         ('p', 't'): 47,\n",
              "         ('p', 'u'): 23,\n",
              "         ('p', 'w'): 4,\n",
              "         ('p', 'y'): 2,\n",
              "         ('q', 'i'): 1,\n",
              "         ('q', 'u'): 13,\n",
              "         ('r', 'a'): 455,\n",
              "         ('r', 'b'): 16,\n",
              "         ('r', 'c'): 38,\n",
              "         ('r', 'd'): 55,\n",
              "         ('r', 'e'): 452,\n",
              "         ('r', 'f'): 32,\n",
              "         ('r', 'g'): 37,\n",
              "         ('r', 'h'): 17,\n",
              "         ('r', 'i'): 158,\n",
              "         ('r', 'j'): 2,\n",
              "         ('r', 'k'): 12,\n",
              "         ('r', 'l'): 35,\n",
              "         ('r', 'm'): 50,\n",
              "         ('r', 'n'): 58,\n",
              "         ('r', 'o'): 242,\n",
              "         ('r', 'p'): 21,\n",
              "         ('r', 'r'): 32,\n",
              "         ('r', 's'): 114,\n",
              "         ('r', 't'): 144,\n",
              "         ('r', 'u'): 40,\n",
              "         ('r', 'v'): 47,\n",
              "         ('r', 'w'): 11,\n",
              "         ('r', 'y'): 41,\n",
              "         ('r', 'z'): 1,\n",
              "         ('s', 'a'): 246,\n",
              "         ('s', 'b'): 65,\n",
              "         ('s', 'c'): 85,\n",
              "         ('s', 'd'): 32,\n",
              "         ('s', 'e'): 241,\n",
              "         ('s', 'f'): 57,\n",
              "         ('s', 'g'): 46,\n",
              "         ('s', 'h'): 101,\n",
              "         ('s', 'i'): 216,\n",
              "         ('s', 'j'): 1,\n",
              "         ('s', 'k'): 32,\n",
              "         ('s', 'l'): 43,\n",
              "         ('s', 'm'): 66,\n",
              "         ('s', 'n'): 23,\n",
              "         ('s', 'o'): 175,\n",
              "         ('s', 'p'): 122,\n",
              "         ('s', 'q'): 1,\n",
              "         ('s', 'r'): 24,\n",
              "         ('s', 's'): 138,\n",
              "         ('s', 't'): 370,\n",
              "         ('s', 'u'): 111,\n",
              "         ('s', 'v'): 5,\n",
              "         ('s', 'w'): 79,\n",
              "         ('s', 'x'): 1,\n",
              "         ('s', 'y'): 7,\n",
              "         ('s', 'z'): 1,\n",
              "         ('t', 'a'): 145,\n",
              "         ('t', 'b'): 11,\n",
              "         ('t', 'c'): 28,\n",
              "         ('t', 'd'): 15,\n",
              "         ('t', 'e'): 290,\n",
              "         ('t', 'f'): 20,\n",
              "         ('t', 'g'): 22,\n",
              "         ('t', 'h'): 858,\n",
              "         ('t', 'i'): 328,\n",
              "         ('t', 'j'): 2,\n",
              "         ('t', 'k'): 3,\n",
              "         ('t', 'l'): 44,\n",
              "         ('t', 'm'): 20,\n",
              "         ('t', 'n'): 6,\n",
              "         ('t', 'o'): 252,\n",
              "         ('t', 'p'): 21,\n",
              "         ('t', 'r'): 89,\n",
              "         ('t', 's'): 185,\n",
              "         ('t', 't'): 86,\n",
              "         ('t', 'u'): 50,\n",
              "         ('t', 'v'): 5,\n",
              "         ('t', 'w'): 45,\n",
              "         ('t', 'y'): 37,\n",
              "         ('u', 'a'): 29,\n",
              "         ('u', 'b'): 28,\n",
              "         ('u', 'c'): 37,\n",
              "         ('u', 'd'): 28,\n",
              "         ('u', 'e'): 12,\n",
              "         ('u', 'f'): 9,\n",
              "         ('u', 'g'): 47,\n",
              "         ('u', 'h'): 1,\n",
              "         ('u', 'i'): 19,\n",
              "         ('u', 'l'): 104,\n",
              "         ('u', 'm'): 59,\n",
              "         ('u', 'n'): 95,\n",
              "         ('u', 'p'): 49,\n",
              "         ('u', 'r'): 128,\n",
              "         ('u', 's'): 106,\n",
              "         ('u', 't'): 59,\n",
              "         ('u', 'v'): 2,\n",
              "         ('u', 'x'): 3,\n",
              "         ('v', 'a'): 50,\n",
              "         ('v', 'e'): 240,\n",
              "         ('v', 'i'): 79,\n",
              "         ('v', 'o'): 12,\n",
              "         ('v', 'u'): 4,\n",
              "         ('w', 'a'): 51,\n",
              "         ('w', 'b'): 2,\n",
              "         ('w', 'c'): 3,\n",
              "         ('w', 'd'): 2,\n",
              "         ('w', 'e'): 79,\n",
              "         ('w', 'f'): 1,\n",
              "         ('w', 'h'): 68,\n",
              "         ('w', 'i'): 96,\n",
              "         ('w', 'l'): 1,\n",
              "         ('w', 'm'): 2,\n",
              "         ('w', 'n'): 21,\n",
              "         ('w', 'o'): 28,\n",
              "         ('w', 'r'): 4,\n",
              "         ('w', 's'): 24,\n",
              "         ('w', 't'): 8,\n",
              "         ('w', 'w'): 2,\n",
              "         ('x', 'a'): 5,\n",
              "         ('x', 'b'): 1,\n",
              "         ('x', 'c'): 3,\n",
              "         ('x', 'e'): 2,\n",
              "         ('x', 'g'): 1,\n",
              "         ('x', 'h'): 1,\n",
              "         ('x', 'i'): 14,\n",
              "         ('x', 'l'): 1,\n",
              "         ('x', 'm'): 2,\n",
              "         ('x', 'o'): 8,\n",
              "         ('x', 'p'): 8,\n",
              "         ('x', 's'): 3,\n",
              "         ('x', 't'): 20,\n",
              "         ('x', 'u'): 6,\n",
              "         ('x', 'w'): 2,\n",
              "         ('x', 'y'): 2,\n",
              "         ('y', 'a'): 58,\n",
              "         ('y', 'b'): 19,\n",
              "         ('y', 'c'): 14,\n",
              "         ('y', 'd'): 10,\n",
              "         ('y', 'e'): 26,\n",
              "         ('y', 'f'): 17,\n",
              "         ('y', 'g'): 18,\n",
              "         ('y', 'h'): 15,\n",
              "         ('y', 'i'): 24,\n",
              "         ('y', 'j'): 1,\n",
              "         ('y', 'k'): 1,\n",
              "         ('y', 'l'): 20,\n",
              "         ('y', 'm'): 13,\n",
              "         ('y', 'n'): 11,\n",
              "         ('y', 'o'): 32,\n",
              "         ('y', 'p'): 36,\n",
              "         ('y', 'r'): 16,\n",
              "         ('y', 's'): 43,\n",
              "         ('y', 't'): 39,\n",
              "         ('y', 'u'): 5,\n",
              "         ('y', 'w'): 6,\n",
              "         ('y', 'x'): 4,\n",
              "         ('y', 'z'): 2,\n",
              "         ('z', 'a'): 4,\n",
              "         ('z', 'e'): 12,\n",
              "         ('z', 'h'): 1,\n",
              "         ('z', 'i'): 3,\n",
              "         ('z', 'o'): 7})"
            ]
          },
          "metadata": {},
          "execution_count": 12
        }
      ]
    },
    {
      "cell_type": "code",
      "metadata": {
        "id": "3EaPJgtaVxZM"
      },
      "source": [
        "def plotbihistogram(ngram):\n",
        "  freq = np.zeros((26,26))\n",
        "  for ii in range(26):\n",
        "    for jj in range(26):\n",
        "      freq[ii,jj] = ngram[(chr(ord('a')+ii), chr(ord('a')+jj))]\n",
        "  plt.imshow(freq, cmap = 'jet')\n",
        "  return freq"
      ],
      "execution_count": 14,
      "outputs": []
    },
    {
      "cell_type": "code",
      "metadata": {
        "id": "M7jq3AwnVzQT",
        "colab": {
          "base_uri": "https://localhost:8080/",
          "height": 513
        },
        "outputId": "7a505de6-30ef-43be-80a1-cd2cedaf7567"
      },
      "source": [
        "bieng1 = plotbihistogram(bigram_eng1)\n",
        "plt.show()\n",
        "bieng2 = plotbihistogram(bigram_eng2)"
      ],
      "execution_count": 15,
      "outputs": [
        {
          "output_type": "display_data",
          "data": {
            "text/plain": [
              "<Figure size 432x288 with 1 Axes>"
            ],
            "image/png": "[encoded data removed]"
          },
          "metadata": {
            "needs_background": "light"
          }
        },
        {
          "output_type": "display_data",
          "data": {
            "text/plain": [
              "<Figure size 432x288 with 1 Axes>"
            ],
            "image/png": "[encoded data removed]"
          },
          "metadata": {
            "needs_background": "light"
          }
        }
      ]
    },
    {
      "cell_type": "code",
      "metadata": {
        "id": "UXPTOj67WsPT",
        "colab": {
          "base_uri": "https://localhost:8080/",
          "height": 513
        },
        "outputId": "3795779e-d071-4d2e-d48f-f4dea328cc77"
      },
      "source": [
        "bifr1 = plotbihistogram(bigram_fr1)\n",
        "plt.show()\n",
        "bifr2 = plotbihistogram(bigram_fr2)"
      ],
      "execution_count": 16,
      "outputs": [
        {
          "output_type": "display_data",
          "data": {
            "text/plain": [
              "<Figure size 432x288 with 1 Axes>"
            ],
            "image/png": "[encoded data removed]"
          },
          "metadata": {
            "needs_background": "light"
          }
        },
        {
          "output_type": "display_data",
          "data": {
            "text/plain": [
              "<Figure size 432x288 with 1 Axes>"
            ],
            "image/png": "[encoded data removed]"
          },
          "metadata": {
            "needs_background": "light"
          }
        }
      ]
    },
    {
      "cell_type": "markdown",
      "metadata": {
        "id": "rGOEHcyGokD0"
      },
      "source": [
        "Let us look at the top 10 ngrams for each text. "
      ]
    },
    {
      "cell_type": "code",
      "metadata": {
        "id": "dk2TkzTno8vb"
      },
      "source": [
        "from IPython.core.debugger import set_trace\n",
        "\n",
        "def ind2tup(ind):\n",
        "  ind = int(ind)\n",
        "  i = int(ind/26)\n",
        "  j = int(ind%26)\n",
        "  return (chr(ord('a')+i), chr(ord('a')+j))\n",
        "\n",
        "def ShowTopN(bifreq, n=10):\n",
        "  f = bifreq.flatten()\n",
        "  arg = np.argsort(-f)\n",
        "  for ii in range(n):\n",
        "    print(f'{ind2tup(arg[ii])} : {f[arg[ii]]}')\n"
      ],
      "execution_count": 17,
      "outputs": []
    },
    {
      "cell_type": "code",
      "metadata": {
        "id": "_HeWNh_q0QZ1",
        "colab": {
          "base_uri": "https://localhost:8080/"
        },
        "outputId": "3bc318fe-ef81-4abe-a7a0-114aa11aceea"
      },
      "source": [
        "print('\\nEnglish 1:')\n",
        "ShowTopN(bieng1)\n",
        "print('\\nEnglish 2:')\n",
        "ShowTopN(bieng2)\n",
        "print('\\nFrench 1:')\n",
        "ShowTopN(bifr1)\n",
        "print('\\nFrench 2:')\n",
        "ShowTopN(bifr2)"
      ],
      "execution_count": 18,
      "outputs": [
        {
          "output_type": "stream",
          "name": "stdout",
          "text": [
            "\n",
            "English 1:\n",
            "('t', 'h') : 858.0\n",
            "('h', 'e') : 707.0\n",
            "('e', 's') : 659.0\n",
            "('i', 'n') : 599.0\n",
            "('a', 'n') : 549.0\n",
            "('e', 'r') : 493.0\n",
            "('r', 'a') : 455.0\n",
            "('r', 'e') : 452.0\n",
            "('a', 'l') : 419.0\n",
            "('n', 'd') : 399.0\n",
            "\n",
            "English 2:\n",
            "('t', 'h') : 1479.0\n",
            "('a', 'n') : 1368.0\n",
            "('h', 'e') : 1190.0\n",
            "('i', 'n') : 1014.0\n",
            "('n', 't') : 833.0\n",
            "('e', 'r') : 800.0\n",
            "('e', 's') : 753.0\n",
            "('r', 'e') : 751.0\n",
            "('l', 'e') : 723.0\n",
            "('h', 'a') : 716.0\n",
            "\n",
            "French 1:\n",
            "('e', 's') : 645.0\n",
            "('l', 'e') : 393.0\n",
            "('e', 'n') : 367.0\n",
            "('d', 'e') : 349.0\n",
            "('o', 'n') : 308.0\n",
            "('n', 't') : 289.0\n",
            "('r', 'e') : 289.0\n",
            "('e', 'l') : 277.0\n",
            "('r', 'a') : 230.0\n",
            "('l', 'a') : 227.0\n",
            "\n",
            "French 2:\n",
            "('e', 's') : 1034.0\n",
            "('n', 't') : 796.0\n",
            "('d', 'e') : 657.0\n",
            "('e', 'n') : 650.0\n",
            "('l', 'e') : 625.0\n",
            "('a', 'n') : 555.0\n",
            "('o', 'n') : 484.0\n",
            "('r', 'e') : 484.0\n",
            "('e', 'l') : 439.0\n",
            "('s', 'e') : 391.0\n"
          ]
        }
      ]
    },
    {
      "cell_type": "markdown",
      "source": [
        "## At times, we need to reduce the number of features. We will discuss this more in the upcoming sessions, but a small example has been discussed here. Instead of using each unique token (a word) as a feature, we reduced the number of features by using 1-gram and 2-gram of characters as features."
      ],
      "metadata": {
        "id": "RfwwQj_4CyBA"
      }
    },
    {
      "cell_type": "markdown",
      "metadata": {
        "id": "6kDovOP4l98z"
      },
      "source": [
        "We observe that the bigrams are similar across different topics but different across languages. Thus, the bigram frequency is a good feature for distinguishing languages, but not for distinguishing topics. \n",
        "\n",
        "Thus, we were able to convert a many-dimensional input (the text) to 26 dimesions (unigrams) or 26*26 dimensions (bigrams).\n",
        "\n",
        "\n",
        "A few ways to explore:\n",
        "1. Try with different languages.\n",
        "2. The topics we used are quite similar, wikipedia articles of 'elephant' and 'giraffe'. What happens if we use very different topics? What if we use text from another source than Wikipedia?\n",
        "3. How can we use and visualize trigrams and higher n-grams?"
      ]
    },
    {
      "cell_type": "markdown",
      "source": [
        "## Features of Images. \n",
        "### Images in digital format are stored as numeric values, and hence we can use these values as features. for ex : a black and white (binary) image is stored as an array of 0  and 255 or 0 and 1."
      ],
      "metadata": {
        "id": "CpA1eKZiDjTm"
      }
    },
    {
      "cell_type": "markdown",
      "metadata": {
        "id": "2ZJfjIHk-oHV"
      },
      "source": [
        "# Part 2: Written numbers\n",
        "\n",
        "We will use a subset of the MNIST dataset. Each input character is represented in a 28*28 array. Let us see if we can extract some simple features from these images which can help us distinguish between the digits.\n",
        "\n",
        "Load the dataset:"
      ]
    },
    {
      "cell_type": "code",
      "metadata": {
        "id": "yNsLJSr6wGY0",
        "colab": {
          "base_uri": "https://localhost:8080/"
        },
        "outputId": "235e654d-eaef-4c0e-de9c-d449bc339009"
      },
      "source": [
        "from keras.datasets import mnist\n",
        " \n",
        "#loading the dataset\n",
        "(train_X, train_y), (test_X, test_y) = mnist.load_data()\n",
        "\n"
      ],
      "execution_count": 19,
      "outputs": [
        {
          "output_type": "stream",
          "name": "stdout",
          "text": [
            "Downloading data from https://storage.googleapis.com/tensorflow/tf-keras-datasets/mnist.npz\n",
            "11493376/11490434 [==============================] - 0s 0us/step\n",
            "11501568/11490434 [==============================] - 0s 0us/step\n"
          ]
        }
      ]
    },
    {
      "cell_type": "markdown",
      "metadata": {
        "id": "jVNr144WAUZO"
      },
      "source": [
        "Extract a subset of the data for our experiment:"
      ]
    },
    {
      "cell_type": "code",
      "metadata": {
        "id": "P3MN8ddxAASZ"
      },
      "source": [
        "no1 = train_X[train_y==1,:,:] ## dataset corresponding to number = 1.\n",
        "no0 = train_X[train_y==0,:,:] ## dataset corresponding to number = 0."
      ],
      "execution_count": 20,
      "outputs": []
    },
    {
      "cell_type": "markdown",
      "metadata": {
        "id": "ePXCs0qyCLpc"
      },
      "source": [
        "Let us visualize a few images here:"
      ]
    },
    {
      "cell_type": "code",
      "metadata": {
        "id": "BQeyZSh-Arpc",
        "colab": {
          "base_uri": "https://localhost:8080/",
          "height": 201
        },
        "outputId": "a75d61b4-ce30-45d4-9b5b-1415c6145a51"
      },
      "source": [
        "for ii in range(5):\n",
        "  plt.subplot(1, 5, ii+1)\n",
        "  plt.imshow(no1[ii,:,:])\n",
        "plt.show()\n",
        "for ii in range(5):\n",
        "  plt.subplot(1, 5, ii+1)\n",
        "  plt.imshow(no0[ii,:,:])\n",
        "plt.show()"
      ],
      "execution_count": 21,
      "outputs": [
        {
          "output_type": "display_data",
          "data": {
            "text/plain": [
              "<Figure size 432x288 with 5 Axes>"
            ],
            "image/png": "[encoded data removed]"
          },
          "metadata": {
            "needs_background": "light"
          }
        },
        {
          "output_type": "display_data",
          "data": {
            "text/plain": [
              "<Figure size 432x288 with 5 Axes>"
            ],
            "image/png": "[encoded data removed]"
          },
          "metadata": {
            "needs_background": "light"
          }
        }
      ]
    },
    {
      "cell_type": "markdown",
      "source": [
        "## We can even use value of each pixel as a feature. But let us see how to derive other features."
      ],
      "metadata": {
        "id": "2_1n_KXkE3zg"
      }
    },
    {
      "cell_type": "markdown",
      "metadata": {
        "id": "1g-Tg7EKDz96"
      },
      "source": [
        "Now, let us start with a simple feature: the sum of all pixels and see how good this feature is."
      ]
    },
    {
      "cell_type": "code",
      "metadata": {
        "id": "I8SztDk7CyZc"
      },
      "source": [
        "## sum of pixel values.\n",
        "\n",
        "sum1 = np.sum(no1>0, (1,2)) # threshold before adding up\n",
        "sum0 = np.sum(no0>0, (1,2))"
      ],
      "execution_count": 22,
      "outputs": []
    },
    {
      "cell_type": "markdown",
      "metadata": {
        "id": "8oW3XCOCE7Zv"
      },
      "source": [
        "Let us visualize how good this feature is: (X-axis is mean, y-axis is the digit)"
      ]
    },
    {
      "cell_type": "code",
      "metadata": {
        "id": "i8PIe8o_DPpU",
        "colab": {
          "base_uri": "https://localhost:8080/",
          "height": 265
        },
        "outputId": "2b7bcc26-95bb-4620-d5f6-0c748fb54a19"
      },
      "source": [
        "plt.hist(sum1, alpha=0.7);\n",
        "plt.hist(sum0, alpha=0.7);"
      ],
      "execution_count": 23,
      "outputs": [
        {
          "output_type": "display_data",
          "data": {
            "text/plain": [
              "<Figure size 432x288 with 1 Axes>"
            ],
            "image/png": "[encoded data removed]"
          },
          "metadata": {
            "needs_background": "light"
          }
        }
      ]
    },
    {
      "cell_type": "markdown",
      "metadata": {
        "id": "7_hToEepFtl2"
      },
      "source": [
        "We can already see that this feature separates the two classes quite well.\n",
        "\n",
        "Let us look at another, more complicated feature. We will count the number black pixels that are surrounded on four sides by non-black pixels, or \"hole pixels\"."
      ]
    },
    {
      "cell_type": "code",
      "metadata": {
        "id": "HwEnlm6RFFej"
      },
      "source": [
        "def cumArray(img):\n",
        "  img2 = img.copy()\n",
        "  for ii in range(1, img2.shape[1]):\n",
        "    img2[ii,:] = img2[ii,:] + img2[ii-1,:]  # for every row, add up all the rows above it.\n",
        "  #print(img2)\n",
        "  img2 = img2>0\n",
        "  #print(img2)\n",
        "  return img2\n",
        "\n",
        "def getHolePixels(img):\n",
        "  im1 = cumArray(img)\n",
        "  im2 = np.rot90(cumArray(np.rot90(img)), 3) # rotate and cumulate it again for differnt direction\n",
        "  im3 = np.rot90(cumArray(np.rot90(img, 2)), 2)\n",
        "  im4 = np.rot90(cumArray(np.rot90(img, 3)), 1)\n",
        "  hull =  im1 & im2 & im3 & im4 # this will create a binary image with all the holes filled in.\n",
        "  hole = hull & ~ (img>0) # remove the original digit to leave behind the holes\n",
        "  return hole\n",
        "\n",
        "\n"
      ],
      "execution_count": 24,
      "outputs": []
    },
    {
      "cell_type": "markdown",
      "metadata": {
        "id": "iw3HjgnupUEI"
      },
      "source": [
        "Visualize a few:"
      ]
    },
    {
      "cell_type": "code",
      "metadata": {
        "id": "H0sjr23NYEFe",
        "colab": {
          "base_uri": "https://localhost:8080/",
          "height": 385
        },
        "outputId": "a50e1fb7-085c-45d3-fb6f-2ecbf9ad2235"
      },
      "source": [
        "imgs = [no1[456,:,:],  no0[456,:,:]]\n",
        "for img in imgs:\n",
        "  plt.subplot(1,2,1)\n",
        "  plt.imshow(getHolePixels(img))\n",
        "  plt.subplot(1,2,2)\n",
        "  plt.imshow(img)\n",
        "  plt.show()"
      ],
      "execution_count": 25,
      "outputs": [
        {
          "output_type": "display_data",
          "data": {
            "text/plain": [
              "<Figure size 432x288 with 2 Axes>"
            ],
            "image/png": "[encoded data removed]"
          },
          "metadata": {
            "needs_background": "light"
          }
        },
        {
          "output_type": "display_data",
          "data": {
            "text/plain": [
              "<Figure size 432x288 with 2 Axes>"
            ],
            "image/png": "[encoded data removed]"
          },
          "metadata": {
            "needs_background": "light"
          }
        }
      ]
    },
    {
      "cell_type": "markdown",
      "metadata": {
        "id": "vS-4erNXtxMi"
      },
      "source": [
        "Now let us plot the number of hole pixels and see how this feature behaves"
      ]
    },
    {
      "cell_type": "code",
      "metadata": {
        "id": "Dpm1dRgsety8",
        "colab": {
          "base_uri": "https://localhost:8080/",
          "height": 265
        },
        "outputId": "ec560515-8ff6-4d3a-da7c-738eab5ad8a5"
      },
      "source": [
        "hole1 = np.array([getHolePixels(i).sum() for i in no1])\n",
        "hole0 = np.array([getHolePixels(i).sum() for i in no0])\n",
        "  \n",
        "plt.hist(hole1, alpha=0.7);\n",
        "plt.hist(hole0, alpha=0.7);"
      ],
      "execution_count": 26,
      "outputs": [
        {
          "output_type": "display_data",
          "data": {
            "text/plain": [
              "<Figure size 432x288 with 1 Axes>"
            ],
            "image/png": "[encoded data removed]"
          },
          "metadata": {
            "needs_background": "light"
          }
        }
      ]
    },
    {
      "cell_type": "markdown",
      "metadata": {
        "id": "8UjCBHpJ31yq"
      },
      "source": [
        "This feature works even better to distinguish between one and zero. \n",
        "\n",
        "\n",
        "Now let us try the number of pixels in the 'hull' or the number with the holes filled in:"
      ]
    },
    {
      "cell_type": "markdown",
      "metadata": {
        "id": "OSzH26ElXNri"
      },
      "source": [
        "Let us try one more feature, where we look at the number of boundary pixels in each image."
      ]
    },
    {
      "cell_type": "code",
      "metadata": {
        "id": "h-2czBypXMwT"
      },
      "source": [
        "def minus(a, b):\n",
        "  return a & ~ b\n",
        "\n",
        "def getBoundaryPixels(img):\n",
        "  img = img.copy()>0  # binarize the image\n",
        "  rshift = np.roll(img, 1, 1)\n",
        "  lshift = np.roll(img, -1 ,1)\n",
        "  ushift = np.roll(img, -1, 0)\n",
        "  dshift = np.roll(img, 1, 0)\n",
        "  boundary = minus(img, rshift) | minus(img, lshift) | minus(img, ushift) | minus(img, dshift)\n",
        "  return boundary"
      ],
      "execution_count": 27,
      "outputs": []
    },
    {
      "cell_type": "code",
      "metadata": {
        "id": "u-V688jFerXh",
        "colab": {
          "base_uri": "https://localhost:8080/",
          "height": 385
        },
        "outputId": "89d2b603-1c6b-4de3-bfa6-465819c9ba8d"
      },
      "source": [
        "imgs = [no1[456,:,:],  no0[456,:,:]]\n",
        "for img in imgs:\n",
        "  plt.subplot(1,2,1)\n",
        "  plt.imshow(getBoundaryPixels(img))\n",
        "  plt.subplot(1,2,2)\n",
        "  plt.imshow(img)\n",
        "  plt.show()"
      ],
      "execution_count": 28,
      "outputs": [
        {
          "output_type": "display_data",
          "data": {
            "text/plain": [
              "<Figure size 432x288 with 2 Axes>"
            ],
            "image/png": "[encoded data removed]"
          },
          "metadata": {
            "needs_background": "light"
          }
        },
        {
          "output_type": "display_data",
          "data": {
            "text/plain": [
              "<Figure size 432x288 with 2 Axes>"
            ],
            "image/png": "[encoded data removed]"
          },
          "metadata": {
            "needs_background": "light"
          }
        }
      ]
    },
    {
      "cell_type": "code",
      "metadata": {
        "id": "kSsxsbCNXcNh",
        "colab": {
          "base_uri": "https://localhost:8080/",
          "height": 265
        },
        "outputId": "2c0a39e1-b80e-4765-9ff1-5617d2cd8128"
      },
      "source": [
        "bound1 = np.array([getBoundaryPixels(i).sum() for i in no1])\n",
        "bound0= np.array([getBoundaryPixels(i).sum() for i in no0])\n",
        "\n",
        "plt.hist(bound1, alpha=0.7);\n",
        "plt.hist(bound0, alpha=0.7);"
      ],
      "execution_count": 29,
      "outputs": [
        {
          "output_type": "display_data",
          "data": {
            "text/plain": [
              "<Figure size 432x288 with 1 Axes>"
            ],
            "image/png": "[encoded data removed]"
          },
          "metadata": {
            "needs_background": "light"
          }
        }
      ]
    },
    {
      "cell_type": "markdown",
      "metadata": {
        "id": "WuP04Ao_R0Yz"
      },
      "source": [
        "What will happen if we plot two features together? "
      ]
    },
    {
      "cell_type": "markdown",
      "metadata": {
        "id": "paDGHlFSd5Fu"
      },
      "source": [
        "Feel free to explore the above graph with your mouse. \n",
        "\n",
        "\n",
        "We have seen that we extracted four features from a 28*28 dimensional image.\n",
        "\n",
        "\n",
        "Some questions to explore:\n",
        "1. Which is the best combination of features?\n",
        "2. How would you test or visualize four or more features?\n",
        "3. Can you come up with your own features?\n",
        "4. Will these features work for different classes other than 0 and 1?\n",
        "5. What will happen if we take more that two classes at a time?"
      ]
    },
    {
      "cell_type": "markdown",
      "source": [
        "## Features from CSV file"
      ],
      "metadata": {
        "id": "gIJdT3tYIMyN"
      }
    },
    {
      "cell_type": "code",
      "source": [
        "import pandas as pd\n",
        "\n",
        "df = pd.read_csv('/content/sample_data/california_housing_train.csv')"
      ],
      "metadata": {
        "id": "SfR0jKjRI9fx"
      },
      "execution_count": 30,
      "outputs": []
    },
    {
      "cell_type": "code",
      "source": [
        "df.head()\n"
      ],
      "metadata": {
        "colab": {
          "base_uri": "https://localhost:8080/",
          "height": 206
        },
        "id": "9VU02WsOJLs_",
        "outputId": "19c0c340-b3b9-4caf-a996-2bf1c1c4f623"
      },
      "execution_count": 31,
      "outputs": [
        {
          "output_type": "execute_result",
          "data": {
            "text/plain": [
              "   longitude  latitude  housing_median_age  total_rooms  total_bedrooms  \\\n",
              "0    -114.31     34.19                15.0       5612.0          1283.0   \n",
              "1    -114.47     34.40                19.0       7650.0          1901.0   \n",
              "2    -114.56     33.69                17.0        720.0           174.0   \n",
              "3    -114.57     33.64                14.0       1501.0           337.0   \n",
              "4    -114.57     33.57                20.0       1454.0           326.0   \n",
              "\n",
              "   population  households  median_income  median_house_value  \n",
              "0      1015.0       472.0         1.4936             66900.0  \n",
              "1      1129.0       463.0         1.8200             80100.0  \n",
              "2       333.0       117.0         1.6509             85700.0  \n",
              "3       515.0       226.0         3.1917             73400.0  \n",
              "4       624.0       262.0         1.9250             65500.0  "
            ],
            "text/html": [
              "\n",
              "  <div id=\"df-8267de38-9a2a-473f-adea-6c83a2f277f7\">\n",
              "    <div class=\"colab-df-container\">\n",
              "      <div>\n",
              "<style scoped>\n",
              "    .dataframe tbody tr th:only-of-type {\n",
              "        vertical-align: middle;\n",
              "    }\n",
              "\n",
              "    .dataframe tbody tr th {\n",
              "        vertical-align: top;\n",
              "    }\n",
              "\n",
              "    .dataframe thead th {\n",
              "        text-align: right;\n",
              "    }\n",
              "</style>\n",
              "<table border=\"1\" class=\"dataframe\">\n",
              "  <thead>\n",
              "    <tr style=\"text-align: right;\">\n",
              "      <th></th>\n",
              "      <th>longitude</th>\n",
              "      <th>latitude</th>\n",
              "      <th>housing_median_age</th>\n",
              "      <th>total_rooms</th>\n",
              "      <th>total_bedrooms</th>\n",
              "      <th>population</th>\n",
              "      <th>households</th>\n",
              "      <th>median_income</th>\n",
              "      <th>median_house_value</th>\n",
              "    </tr>\n",
              "  </thead>\n",
              "  <tbody>\n",
              "    <tr>\n",
              "      <th>0</th>\n",
              "      <td>-114.31</td>\n",
              "      <td>34.19</td>\n",
              "      <td>15.0</td>\n",
              "      <td>5612.0</td>\n",
              "      <td>1283.0</td>\n",
              "      <td>1015.0</td>\n",
              "      <td>472.0</td>\n",
              "      <td>1.4936</td>\n",
              "      <td>66900.0</td>\n",
              "    </tr>\n",
              "    <tr>\n",
              "      <th>1</th>\n",
              "      <td>-114.47</td>\n",
              "      <td>34.40</td>\n",
              "      <td>19.0</td>\n",
              "      <td>7650.0</td>\n",
              "      <td>1901.0</td>\n",
              "      <td>1129.0</td>\n",
              "      <td>463.0</td>\n",
              "      <td>1.8200</td>\n",
              "      <td>80100.0</td>\n",
              "    </tr>\n",
              "    <tr>\n",
              "      <th>2</th>\n",
              "      <td>-114.56</td>\n",
              "      <td>33.69</td>\n",
              "      <td>17.0</td>\n",
              "      <td>720.0</td>\n",
              "      <td>174.0</td>\n",
              "      <td>333.0</td>\n",
              "      <td>117.0</td>\n",
              "      <td>1.6509</td>\n",
              "      <td>85700.0</td>\n",
              "    </tr>\n",
              "    <tr>\n",
              "      <th>3</th>\n",
              "      <td>-114.57</td>\n",
              "      <td>33.64</td>\n",
              "      <td>14.0</td>\n",
              "      <td>1501.0</td>\n",
              "      <td>337.0</td>\n",
              "      <td>515.0</td>\n",
              "      <td>226.0</td>\n",
              "      <td>3.1917</td>\n",
              "      <td>73400.0</td>\n",
              "    </tr>\n",
              "    <tr>\n",
              "      <th>4</th>\n",
              "      <td>-114.57</td>\n",
              "      <td>33.57</td>\n",
              "      <td>20.0</td>\n",
              "      <td>1454.0</td>\n",
              "      <td>326.0</td>\n",
              "      <td>624.0</td>\n",
              "      <td>262.0</td>\n",
              "      <td>1.9250</td>\n",
              "      <td>65500.0</td>\n",
              "    </tr>\n",
              "  </tbody>\n",
              "</table>\n",
              "</div>\n",
              "      <button class=\"colab-df-convert\" onclick=\"convertToInteractive('df-8267de38-9a2a-473f-adea-6c83a2f277f7')\"\n",
              "              title=\"Convert this dataframe to an interactive table.\"\n",
              "              style=\"display:none;\">\n",
              "        \n",
              "  <svg xmlns=\"http://www.w3.org/2000/svg\" height=\"24px\"viewBox=\"0 0 24 24\"\n",
              "       width=\"24px\">\n",
              "    <path d=\"M0 0h24v24H0V0z\" fill=\"none\"/>\n",
              "    <path d=\"M18.56 5.44l.94 2.06.94-2.06 2.06-.94-2.06-.94-.94-2.06-.94 2.06-2.06.94zm-11 1L8.5 8.5l.94-2.06 2.06-.94-2.06-.94L8.5 2.5l-.94 2.06-2.06.94zm10 10l.94 2.06.94-2.06 2.06-.94-2.06-.94-.94-2.06-.94 2.06-2.06.94z\"/><path d=\"M17.41 7.96l-1.37-1.37c-.4-.4-.92-.59-1.43-.59-.52 0-1.04.2-1.43.59L10.3 9.45l-7.72 7.72c-.78.78-.78 2.05 0 2.83L4 21.41c.39.39.9.59 1.41.59.51 0 1.02-.2 1.41-.59l7.78-7.78 2.81-2.81c.8-.78.8-2.07 0-2.86zM5.41 20L4 18.59l7.72-7.72 1.47 1.35L5.41 20z\"/>\n",
              "  </svg>\n",
              "      </button>\n",
              "      \n",
              "  <style>\n",
              "    .colab-df-container {\n",
              "      display:flex;\n",
              "      flex-wrap:wrap;\n",
              "      gap: 12px;\n",
              "    }\n",
              "\n",
              "    .colab-df-convert {\n",
              "      background-color: #E8F0FE;\n",
              "      border: none;\n",
              "      border-radius: 50%;\n",
              "      cursor: pointer;\n",
              "      display: none;\n",
              "      fill: #1967D2;\n",
              "      height: 32px;\n",
              "      padding: 0 0 0 0;\n",
              "      width: 32px;\n",
              "    }\n",
              "\n",
              "    .colab-df-convert:hover {\n",
              "      background-color: #E2EBFA;\n",
              "      box-shadow: 0px 1px 2px rgba(60, 64, 67, 0.3), 0px 1px 3px 1px rgba(60, 64, 67, 0.15);\n",
              "      fill: #174EA6;\n",
              "    }\n",
              "\n",
              "    [theme=dark] .colab-df-convert {\n",
              "      background-color: #3B4455;\n",
              "      fill: #D2E3FC;\n",
              "    }\n",
              "\n",
              "    [theme=dark] .colab-df-convert:hover {\n",
              "      background-color: #434B5C;\n",
              "      box-shadow: 0px 1px 3px 1px rgba(0, 0, 0, 0.15);\n",
              "      filter: drop-shadow(0px 1px 2px rgba(0, 0, 0, 0.3));\n",
              "      fill: #FFFFFF;\n",
              "    }\n",
              "  </style>\n",
              "\n",
              "      <script>\n",
              "        const buttonEl =\n",
              "          document.querySelector('#df-8267de38-9a2a-473f-adea-6c83a2f277f7 button.colab-df-convert');\n",
              "        buttonEl.style.display =\n",
              "          google.colab.kernel.accessAllowed ? 'block' : 'none';\n",
              "\n",
              "        async function convertToInteractive(key) {\n",
              "          const element = document.querySelector('#df-8267de38-9a2a-473f-adea-6c83a2f277f7');\n",
              "          const dataTable =\n",
              "            await google.colab.kernel.invokeFunction('convertToInteractive',\n",
              "                                                     [key], {});\n",
              "          if (!dataTable) return;\n",
              "\n",
              "          const docLinkHtml = 'Like what you see? Visit the ' +\n",
              "            '<a target=\"_blank\" href=https://colab.research.google.com/notebooks/data_table.ipynb>data table notebook</a>'\n",
              "            + ' to learn more about interactive tables.';\n",
              "          element.innerHTML = '';\n",
              "          dataTable['output_type'] = 'display_data';\n",
              "          await google.colab.output.renderOutput(dataTable, element);\n",
              "          const docLink = document.createElement('div');\n",
              "          docLink.innerHTML = docLinkHtml;\n",
              "          element.appendChild(docLink);\n",
              "        }\n",
              "      </script>\n",
              "    </div>\n",
              "  </div>\n",
              "  "
            ]
          },
          "metadata": {},
          "execution_count": 31
        }
      ]
    },
    {
      "cell_type": "code",
      "source": [
        "df.columns\n"
      ],
      "metadata": {
        "colab": {
          "base_uri": "https://localhost:8080/"
        },
        "id": "XCeIl4kMJc59",
        "outputId": "71b97a0e-d7ac-4d00-d1e8-021e77477b6a"
      },
      "execution_count": 32,
      "outputs": [
        {
          "output_type": "execute_result",
          "data": {
            "text/plain": [
              "Index(['longitude', 'latitude', 'housing_median_age', 'total_rooms',\n",
              "       'total_bedrooms', 'population', 'households', 'median_income',\n",
              "       'median_house_value'],\n",
              "      dtype='object')"
            ]
          },
          "metadata": {},
          "execution_count": 32
        }
      ]
    },
    {
      "cell_type": "code",
      "source": [
        "df = df.rename(columns={'oldName1': 'newName1', 'oldName2': 'newName2'})\n"
      ],
      "metadata": {
        "id": "foQSY_tvJOua"
      },
      "execution_count": 33,
      "outputs": []
    },
    {
      "cell_type": "code",
      "source": [
        "import matplotlib.pyplot as plt\n",
        "import pandas as pd\n",
        "import seaborn as sns\n",
        "from mpl_toolkits.mplot3d import Axes3D\n",
        "\n",
        "\n",
        "sns.set(style = \"darkgrid\")\n",
        "\n",
        "fig = plt.figure()\n",
        "ax = fig.add_subplot(111, projection = '3d')\n",
        "\n",
        "x = df['total_bedrooms'][:50]\n",
        "y = df['housing_median_age'][:50]\n",
        "z = df['median_house_value'][:50]\n",
        "\n",
        "ax.set_xlabel(\"total_bedrooms\")\n",
        "ax.set_ylabel(\"housing_median_age\")\n",
        "ax.set_zlabel(\"median_house_value\")\n",
        "\n",
        "ax.scatter(x, y, z)\n",
        "\n",
        "plt.show()"
      ],
      "metadata": {
        "colab": {
          "base_uri": "https://localhost:8080/",
          "height": 248
        },
        "id": "LaSdj2-HItaG",
        "outputId": "64db8ddb-3183-46a3-f97d-fe4467837fde"
      },
      "execution_count": 34,
      "outputs": [
        {
          "output_type": "display_data",
          "data": {
            "text/plain": [
              "<Figure size 432x288 with 1 Axes>"
            ],
            "image/png": "[encoded data removed]"
          },
          "metadata": {}
        }
      ]
    },
    {
      "cell_type": "code",
      "source": [
        "## Task :\n",
        "## Download a CSV file from the internet, upload it to your google drive.\n",
        "## Read the CSV file and plot graphs using different combination of features and write your analysis\n",
        "## Ex : IRIS flower datasaet"
      ],
      "metadata": {
        "id": "vGGbRUz3J8Ju"
      },
      "execution_count": 35,
      "outputs": []
    },
    {
      "cell_type": "code",
      "source": [
        ""
      ],
      "metadata": {
        "id": "q6XBkROtN3k-"
      },
      "execution_count": 35,
      "outputs": []
    }
  ]
}